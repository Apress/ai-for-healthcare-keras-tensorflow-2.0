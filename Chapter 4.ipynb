{
 "cells": [
  {
   "cell_type": "markdown",
   "metadata": {},
   "source": [
    "## Preparing the Data"
   ]
  },
  {
   "cell_type": "code",
   "execution_count": 4,
   "metadata": {},
   "outputs": [],
   "source": [
    "import pandas as pd\n",
    "import numpy as np"
   ]
  },
  {
   "cell_type": "code",
   "execution_count": 5,
   "metadata": {},
   "outputs": [],
   "source": [
    "icd9_code = pd.read_csv(\"./Data/DIAGNOSES_ICD.csv\", index_col = None)"
   ]
  },
  {
   "cell_type": "code",
   "execution_count": 6,
   "metadata": {},
   "outputs": [
    {
     "name": "stderr",
     "output_type": "stream",
     "text": [
      "c:\\users\\bansa\\anaconda3\\envs\\tfgpu\\lib\\site-packages\\IPython\\core\\interactiveshell.py:3338: DtypeWarning: Columns (5) have mixed types.Specify dtype option on import or set low_memory=False.\n",
      "  if (await self.run_code(code, result,  async_=asy)):\n"
     ]
    }
   ],
   "source": [
    "n_rows = 100000\n",
    "\n",
    "# create the iterator\n",
    "noteevents_iterator = pd.read_csv(\n",
    "    \"./Data/NOTEEVENTS.csv\",\n",
    "    iterator=True,\n",
    "    chunksize=n_rows)\n",
    "\n",
    "# concatenate according to a filter to get our noteevents data\n",
    "noteevents = pd.concat(\n",
    "    [noteevents_chunk[np.logical_and(noteevents_chunk.CATEGORY.isin([\"Discharge summary\"]),\n",
    "                                     noteevents_chunk.DESCRIPTION.isin([\"Report\"]))]\n",
    "    for noteevents_chunk in noteevents_iterator])\n",
    "noteevents.HADM_ID = noteevents.HADM_ID.astype(int)"
   ]
  },
  {
   "cell_type": "code",
   "execution_count": 7,
   "metadata": {},
   "outputs": [
    {
     "name": "stdout",
     "output_type": "stream",
     "text": [
      "There are duplicates on Primary Key Set\n"
     ]
    }
   ],
   "source": [
    "try:\n",
    "    assert len(noteevents.drop_duplicates([\"SUBJECT_ID\",\"HADM_ID\"])) == len(noteevents)\n",
    "except AssertionError as e:\n",
    "    print(\"There are duplicates on Primary Key Set\")"
   ]
  },
  {
   "cell_type": "code",
   "execution_count": 8,
   "metadata": {},
   "outputs": [
    {
     "data": {
      "text/html": [
       "<div>\n",
       "<style scoped>\n",
       "    .dataframe tbody tr th:only-of-type {\n",
       "        vertical-align: middle;\n",
       "    }\n",
       "\n",
       "    .dataframe tbody tr th {\n",
       "        vertical-align: top;\n",
       "    }\n",
       "\n",
       "    .dataframe thead th {\n",
       "        text-align: right;\n",
       "    }\n",
       "</style>\n",
       "<table border=\"1\" class=\"dataframe\">\n",
       "  <thead>\n",
       "    <tr style=\"text-align: right;\">\n",
       "      <th></th>\n",
       "      <th>SUBJECT_ID</th>\n",
       "      <th>HADM_ID</th>\n",
       "      <th>TEXT</th>\n",
       "    </tr>\n",
       "  </thead>\n",
       "  <tbody>\n",
       "    <tr>\n",
       "      <th>9214</th>\n",
       "      <td>18</td>\n",
       "      <td>188822</td>\n",
       "      <td>Admission Date:  [**2167-9-30**]              Discharge Date:   [**2167-10-2**]\\n\\nDate of Birth:  [**2116-11-29**]             Sex:   M\\n\\nService: PSYCHIATRY\\n\\nAllergies:\\nBactrim\\n\\nAttending:[**First Name3 (LF) 7342**]\\nChief Complaint:\\n\"I'm just so depressed, I can't do anything\"\\n\\nMajor Surgical or Invasive Procedure:\\nNone\\n\\nHistory of Present Illness:\\nPt reports 3-4 weeks ago he noticed an increase of stress at\\nwork and at home at the same time that he was losing weight to\\ngain better control over his diabetes (40lb in [**5-15**] weeks).  Pt\\nreports having increasingly frequent panic attacks which he\\ncontrolled with Klonopin and occassional Xanax.  He also noticed\\ndecrease in sleep, energy, concentration, interest and\\nmotivation, and an increase in anhedonia over the past [**2-12**]\\nweeks.\\n His psychiatrist began Zoloft which after 3-4 days made him\\njittery and this was switched to Celexa which he seems to be\\ntolerating better, although his neurovegetative sx seem to\\nworsen.  He denies SI but reports fleeting, ego dystonic\\nthoughts of hurting his wife, and has not acted on any of these\\nthoughts.  Pt reports ruminations concerning whether he is\\nschizophrenic, will have to stay in the hospital forever, or\\nwill be on meds forever.  Pt and wife also report guilt over\\nallowing two children to develop bad sleeping habits such that\\nnow children and wife sleep in bed and pt sleeps in chair\\ndownstairs.\\n\\n\\nPast Medical History:\\n- IDDM, Type II\\n- OSA\\n- Borderline HTN\\n- Hypercholestremia\\n- h/o RBBB\\n\\nPAST PSYCHIATRIC HISTORY:\\nPanic d/o x 20yrs on Klonopin x 12 yrs, occassional Xanax\\nOutpt psychiatry intermittently, until 4 weeks ago when he began\\nto see Dr. [**Last Name (STitle) 10166**] with significant depression since [**Month (only) 205**].\\n[**Month (only) 404**] of this year pt and wife sought counseling for sleep\\nissue with children x 2 sessions.\\nNo assaultive or suicidal behavior\\n\\n\\nSocial History:\\nSUBSTANCE ABUSE HISTORY:\\nDenies alcohol, tobacco or other street drugs.  One episode of\\nMJ use\\nin [**2140**].\\n\\nSOCIAL HISTORY:\\nAttorney for [**Company 28241**], [**Location (un) 511**] division.  Married\\nto [**Doctor First Name **] for 11 yrs this [**5-11**] children 4yo [**Known firstname 122**] and 2\\nyo [**Doctor First Name **].  Denies physical or sexual abuse in past or\\ncurrently.  Denies military or legal hx.\\n\\nFamily History:\\nDenies\\n\\nPhysical Exam:\\nMENTAL STATUS EXAM ON ADMISSION\\nAPPEARANCE &amp; FACIAL EXPRESSION: well-groomed, anxious\\nPOSTURE: sitting up in chair\\nBEHAVIOR (NOTE ANY ABNORMAL MOVEMENTS): none noted\\nATTITUDE (E.G., COOPERATIVE, PROVOCATIVE): cooperative in\\nconversation but somewhat guarded\\nSPEECH (E.G., PRESSURED, SLOWED, DYSARTHRIC, APHASIC, ETC.):\\nnormal flow, articulation and prosody\\nMOOD: anxious\\nAFFECT (NOTE RANGE, REACTIVITY, APPROPRIATENESS, ETC.): blunted\\naffect with moderate range/reactivity, congruent\\nTHOUGHT FORM (E.G., LOOSENED ASSOCIATIONS, TANGENTIALITY,\\nCIRCUMSTANTIALITY, FLIGHT OF IDEAS, ETC.): No LOA/FOI, [**Doctor Last Name **],\\ncirc\\nTHOUGHT CONTENT (E.G., PREOCCUPATIONS, OBSESSIONS, DELUSIONS,\\nETC.):  Fears he is schizophrenic because of the thoughts to\\nhurt his wife, distorted thinking regarding work, somewhat\\nparanoid about confidentiality issues and conditions of CV\\nABNORMAL PERCEPTIONS (E.G., HALLUCINATIONS): denied\\nNEUROVEGETATIVE SYMPTOMS (E.G., DISTURBANCES OF SLEEP, APPETITE,\\nENERGY, LIBIDO): poor sleep, energy, interest\\nSUICIDALITY/HOMICIDALITY (INCLUDE IDEATION, INTENT, PLAN):\\nfleeting thoughts as above to hurt wife, denies plan, SI\\nINSIGHT AND JUDGMENT: limited\\nCOGNITIVE ASSESSMENT:\\nSENSORIUM (E.G., ALERT, DROWSY, SOMNOLENT): alert\\nORIENTATION: x 3\\nATTENTION (DIGIT SPAN, SERIAL SEVENS, ETC.): not tested\\nMEMORY (SHORT- AND LONG-TERM): registration and long term intact\\nCALCULATIONS: not tested\\nFUND OF KNOWLEDGE (ESTIMATE INTELLIGENCE): above average\\nPROVERB INTERPRETATION: not tested\\nSIMILARITIES/ANALOGIES: not tested\\n\\nPHYSICAL EXAM ON ADMISSION:\\nVSS, exam within normal limits\\n\\nPertinent Results:\\n[**2167-9-30**] 11:23AM   %HbA1c-6.3*# [Hgb]-DONE [A1c]-DONE\\n[**2167-9-30**] 11:15AM   GLUCOSE-255* UREA N-11 CREAT-0.9 SODIUM-137\\nPOTASSIUM-4.1 CHLORIDE-100 TOTAL CO2-28 ANION GAP-13\\n[**2167-9-30**] 11:15AM   VIT B12-271 FOLATE-13.0\\n[**2167-9-30**] 11:15AM   TSH-1.6\\n[**2167-9-30**] 11:15AM   ASA-NEG ETHANOL-NEG ACETMNPHN-NEG\\nbnzodzpn-NEG barbitrt-NEG tricyclic-NEG\\n[**2167-9-30**] 11:15AM   WBC-9.9 RBC-5.07 HGB-14.8 HCT-42.0 MCV-83\\nMCH-29.1 MCHC-35.2* RDW-13.9\\n[**2167-9-30**] 11:15AM   PLT COUNT-217\\n[**2167-9-30**] 11:01AM URINE  HOURS-RANDOM\\n[**2167-9-30**] 11:01AM URINE  GR HOLD-HOLD\\n[**2167-9-30**] 11:01AM URINE  COLOR-Straw APPEAR-Clear SP [**Last Name (un) 155**]-1.010\\n[**2167-9-30**] 11:01AM URINE  RBC-0-2 WBC-[**3-14**] BACTERIA-MOD YEAST-NONE\\nEPI-0-2\\n\\nBrief Hospital Course:\\nSOMATIC INTERVENTIONS:\\nThe patient was continued on his outpatient medication regimen\\nof Lexapro, Nortriptyline, Seroquel, Klonopin and Trazodone.  He\\nwas also offerred Ambien at HS as needed.  The patient was\\nadmitted for ECT and was cleared by Medicine and  Anesthesia.\\nOf note, per ECT consult, the patient's HS and a.m. doses of\\nKlonopin were held for procudure.  Overnight, prior to transfer,\\nthe DOC was called in response to the patient being agitated and\\ntremulous reporting \"I'm going to die\".  Fingerstick glucose was\\nfound to be over 300 - in response, the patient was given 10\\nunits NPH and received Ativan 2mg IM with fair effect.  On the\\nmorning of transfer, the patient was again found to be tremulous\\nand disoriented, repeating that he felt he was going to die.  He\\nwas again given Ativan 2mg IM with minimal effect.  Fingerstick\\nwas checked and found to be 30.  In the process of obtaining\\nD50, the patient began to demonstrate myoclonic jerking of arms\\nand legs.  Code was called when the patient became unresponsive.\\n\\nTHERAPEUTIC INTERVENTIONS:\\nThe patient is followed as an outpatient by Dr. [**First Name8 (NamePattern2) **] [**Last Name (NamePattern1) 10166**] who\\nreferred him to the inpatient unit for stabilization of his\\nsignificant depression as well as for evaluation for ECT.  Mr.\\n[**Known lastname 28257**] admitted to significantly low mood since [**Month (only) 205**], and\\nendorsed neurovegetative symptoms consistent with an agitated\\ndepression.\\nBEHAVIORAL:\\nThe patient remained in good behavioral control for the duration\\nof his admission, requiring only 15 minute checks.\\nLEGAL:\\nThe patient signed in under conditional voluntary upon arrival.\\n\\nDISPOSITION:\\nThe patient was transfered to an ICU bed after code was called\\nfor unresponsiveness and possible seizure activity.\\n\\nDischarge Disposition:\\nExtended Care\\n\\nFacility:\\n[**Hospital1 18**]\\n\\nDischarge Diagnosis:\\nAXIS I: MDD\\nAXIS II: Deferred\\nAXIS III: IDDM, Type II; OSA; Borderline HTN; h/o RBBB; Seizure\\nA/W hypoglycemia\\n\\nDischarge Condition:\\nMENTAL STATUS EXAM ON DISCHARGE:\\nThe patient is lying supine in bed, jerking arms and legs, with\\nwrithing movements in his trunk.  The patient is unresponsive,\\nwill not attend to voice etc.  Unable to make eye contact.\\nUnable to assess mood, affect or thought process and content.\\nInsight and judgment n/a.\\n\\nDischarge Instructions:\\nTransfer to ICU bed\\n\\nFollowup Instructions:\\n- Transfer to ICU bed\\n- Psychiatry C/L service will follow while on Medicine\\n\\n\\nCompleted by:[**2167-10-2**]</td>\n",
       "    </tr>\n",
       "    <tr>\n",
       "      <th>9215</th>\n",
       "      <td>18</td>\n",
       "      <td>188822</td>\n",
       "      <td>Admission Date:  [**2167-10-2**]              Discharge Date:   [**2167-10-4**]\\n\\nDate of Birth:  [**2116-11-29**]             Sex:   M\\n\\nService: MEDICINE\\n\\nAllergies:\\nBactrim\\n\\nAttending:[**First Name3 (LF) 1850**]\\nChief Complaint:\\nDepression\\n\\nMajor Surgical or Invasive Procedure:\\nNone\\n\\n\\nHistory of Present Illness:\\n50 yo M w/ Type 2 DM, depression who was admitted to Deaconness\\n4 for major depressive episode and possible [**First Name3 (LF) **]. While on [**Hospital1 **]\\n4, the patient was given ativan 1 mg x 1. His klonopin was held.\\nHe was given [**1-11**] normal dose of NPH as NPO for [**Month/Day (2) **]. The\\nfollowing am, the paitent was found to be shaking. He was given\\n2 mg ativan and became nonresponsive over the next 20 minutes\\nand a code was called. The patient's fingerstick was 30 so he\\nwas given 1 amp of D50. He was also given 4 mg IV ativan. He\\nstopped shaking and mental status cleared in 30 minutes. He was\\nstarted on a dilantin load. He was seen by neuro who felt that\\nin the setting of hypoglycemia (severe)and withdrawal of his\\nKlonopin, he was at risk to have a seizure.\\n\\nPast Medical History:\\n- IDDM, Type II\\n- OSA\\n- Borderline HTN\\n- Hypercholestremia\\n- h/o RBBB\\n\\nPAST PSYCHIATRIC HISTORY:\\nPanic d/o x 20yrs on Klonopin x 12 yrs, occassional Xanax\\nOutpt psychiatry intermittently, until 4 weeks ago when he began\\nto see Dr. [**Last Name (STitle) 10166**] with significant depression since [**Month (only) 205**].\\n[**Month (only) 404**] of this year pt and wife sought counseling for sleep\\nissue with children x 2 sessions.\\nNo assaultive or suicidal behavior\\n\\n\\nSocial History:\\nSUBSTANCE ABUSE HISTORY:\\nDenies alcohol, tobacco or other street drugs.  One episode of\\nMJ use\\nin [**2140**].\\n\\nSOCIAL HISTORY:\\nAttorney for [**Company 28241**], [**Location (un) 511**] division.  Married\\nto [**Doctor First Name **] for 11 yrs this [**5-11**] children 4yo [**Known firstname 122**] and 2\\nyo [**Doctor First Name **].  Denies physical or sexual abuse in past or\\ncurrently.  Denies military or legal hx.\\n\\n\\nFamily History:\\nDenies\\n\\nPhysical Exam:\\nVS: Tm 99.8 HR 87-133 (98) BP 117-166/75-97 RR 17-27\\nO2 Sat - 95-100% RA 2740/2455\\nGEN: NAD, sitting in bed\\nHEENT: PERRL, EOMI, sclera anicteric, mmm, no OP lesions\\nCV: Normal S1/S2, RRR, no m/g/r.\\nPUL: CTA b/l.\\nABD: Soft, NT, ND +BS.\\nEXT: No edema.\\nNeuro: A and Ox3, CN 2-12 intact, M [**5-14**] UE/LE b/l, sensation\\ngrossly intact\\n\\n\\nPertinent Results:\\n[**2167-10-3**] 07:30PM BLOOD WBC-12.8* RBC-4.69 Hgb-13.8* Hct-39.7*\\nMCV-85 MCH-29.5 MCHC-34.9 RDW-13.9 Plt Ct-217\\n[**2167-10-3**] 07:30PM BLOOD Plt Ct-217\\n[**2167-10-4**] 07:45AM BLOOD Glucose-186* UreaN-12 Creat-1.0 Na-139\\nK-3.9 Cl-101 HCO3-25 AnGap-17\\n[**2167-10-3**] 07:30PM BLOOD CK-MB-1 cTropnT-&lt;0.01\\n[**2167-10-3**] 06:14AM BLOOD CK-MB-1 cTropnT-&lt;0.01\\n[**2167-10-2**] 03:38PM BLOOD Phenyto-15.5\\n[**2167-10-2**] 11:36AM BLOOD ASA-NEG Ethanol-NEG Acetmnp-NEG\\nBnzodzp-NEG Barbitr-NEG Tricycl-NEG\\n[**2167-10-2**] 11:44AM BLOOD Type-ART pO2-198* pCO2-29* pH-7.54*\\ncalHCO3-26 Base XS-3\\n.\\nEEG\\nThis is a normal EEG in the awake and drowsy states. Note\\nis incidentally made of a resting tachycardia.\\n\\n\\nBrief Hospital Course:\\nA/P: 50M with history of hypertension, type II diabetes,\\noriginally admitted to psychiatry for [**Month/Day/Year **], made NPO p MN for [**Month/Day/Year **]\\nin AM with 1/2 dose of insulin, who was found unresponsive and\\nin apparent seizure state, who was found to have a blood glucose\\nof 30.\\n.\\n1)Convulsions:\\nA code was called and the patient was given Ativan 2mg po x1, as\\nwell as an amp of D50, loaded with Dilantin and transferred to\\nthe MICU.  The seizure was attributed to his hypoglycemic state,\\nalthough psych thought there was an element of Klonopin\\nwithdrawal and thus continued to give Ativan 0.5mg po q4.  Pt\\nhad frequent BS checks in the MICU and patient recovered from\\nhis initial event without any post-seizure sequelae.  Pt\\ncontinued to be monitored and had no further events.  Neurology\\nwas consulted for his ? seizure event and after a negative exam\\nand negative EEG, concluded that it was all due to hypoglycemia,\\nand that further Dilantin would not be necessary.\\nDilantin was d/ced and patient continued to do well.  He was\\neventually transferred to the floor.   All home medications were\\ncontinued and patient continued to express interest in his [**Month/Day/Year **]\\ntreatment on Monday, although refused to be transferred back to\\n[**Hospital1 **] 4.\\nAll home medications although his insulin dose (nph 20 qPM) was\\nhalved (--&gt; NPH 10 qPM) on the floor, and his sugars were\\nrunning in the 150s-250s range.\\nPt was sent home to return for [**Hospital1 **] on Monday as an outpatient.\\nExplicit instructions were given to take all medications as\\nnormal the night before, including his Klonopin, and only take\\n[**1-13**] dose of NPH insulin the night before, NPO p MN, no morning\\nNPH dose, and to cover his elevated morning sugars with Humalog\\nat a conservative sliding scale.  Goal sugars 150s-250s.\\n\\n2) Type 2 DM - follow sugars closely\\n- Continue normal dose insulin while taking POs, and when NPO p\\nMN for [**Month/Day (4) **] in AM, pt was instructed to take [**1-13**] NPH dose the\\nevening before, no NPH in the AM, and to cover with Humalog prn\\naccording to conservative insulin SS to prevent hypoglycemic\\nepisodes.\\n.\\n3) Depression:\\nPt with a h/o refractory depression that was originally admitted\\nto the psych service for [**Month/Day (4) **].  Psych consult remained aware as\\npt was admitted to the MICU and then called out to the floors.\\nRecommended continuing his Klonopin 3mg po bid for his anxiety,\\nand added Ativan 0.5mg po q4 for coverage of his anxiety and\\nalleviation of ? withdrawal during periods when he is off the\\nKlonopin.  Continued his home doses of Celexa, Nortriptyline,\\nSeroquel and trazodone for sleep.\\nPt was to be discharged to return on Monday for [**Month/Day (4) **] treatments\\nas an outpatient.\\n.\\n4) F/E/N:\\n-Diabetic diet, replete lytes prn\\n.\\n5) Code: full\\n.\\n6) Dispo:\\nMedically cleared per MICU team as well as PCP.  [**Name10 (NameIs) **] to be\\ndischarged to follow up with outpatient [**Name10 (NameIs) **] on Monday.\\n\\nMedications on Admission:\\nNortriptylline 50mg qd (started a week PTA)\\nSeroquel 50mg tid\\nKlonopin 3mg [**Hospital1 **]\\nLexapro 20mg po qd\\nTrazadone 200mg qhs\\nCrestor 10mg po qd\\nInsulin SS + NPH 20 qhs\\nLisinopril 10mg po qd\\n\\n\\nDischarge Medications:\\n1. Nortriptyline 50 mg Capsule Sig: One (1) Capsule PO DAILY\\n(Daily).\\nDisp:*30 Capsule(s)* Refills:*2*\\n2. Quetiapine 25 mg Tablet Sig: Two (2) Tablet PO TID (3 times a\\nday).\\nDisp:*180 Tablet(s)* Refills:*2*\\n3. Trazodone 100 mg Tablet Sig: Two (2) Tablet PO QHS (once a\\nday (at bedtime)).\\nDisp:*60 Tablet(s)* Refills:*2*\\n4. Escitalopram 10 mg Tablet Sig: Two (2) Tablet PO DAILY\\n(Daily).\\nDisp:*60 Tablet(s)* Refills:*2*\\n5. Rosuvastatin 5 mg Tablet Sig: Two (2) Tablet PO DAILY\\n(Daily).\\nDisp:*60 Tablet(s)* Refills:*2*\\n6. Aspirin 325 mg Tablet Sig: One (1) Tablet PO DAILY (Daily).\\nDisp:*30 Tablet(s)* Refills:*2*\\n7. Lisinopril 10 mg Tablet Sig: One (1) Tablet PO once a day.\\nDisp:*30 Tablet(s)* Refills:*2*\\n8. Insulin NPH Human Recomb 100 unit/mL Suspension Sig: Twenty\\n(20) units Subcutaneous qAM (in the morning) .\\nDisp:*qs units* Refills:*2*\\n9. Insulin NPH Human Recomb 100 unit/mL Suspension Sig: Five (5)\\nunits Subcutaneous qhs (at bedtime) for 1 doses.\\nDisp:*qs units* Refills:*0*\\n10. Insulin NPH Human Recomb 100 unit/mL Suspension Sig: Twenty\\n(20) units Subcutaneous at bedtime: Please start after [**Hospital1 **]\\ntreatments tomorrow night [**10-5**].  Do not use this dose when not\\neating.\\nDisp:*qs units* Refills:*2*\\n11. Klonopin 1 mg Tablet Sig: Three (3) Tablet PO twice a day.\\nDisp:*180 Tablet(s)* Refills:*2*\\n12. Ativan 0.5 mg Tablet Sig: One (1) Tablet PO every four (4)\\nhours as needed for anxiety.\\nDisp:*60 Tablet(s)* Refills:*0*\\n\\n\\nDischarge Disposition:\\nHome\\n\\nDischarge Diagnosis:\\nMajor Depression\\nHypoglycemic seizure\\n.\\nDMII\\nHTN\\n\\n\\nDischarge Condition:\\nAfebrile, FS running in high normal range, stable to be\\ndischarged home.\\n\\n\\nDischarge Instructions:\\n1.  Please return Monday morning to receive your [**Month/Year (2) **] treatment\\nwith psychiatry as below.   Please call [**Telephone/Fax (1) **] for your\\nscheduled time.\\n.\\n2.  For preparations for [**Telephone/Fax (1) **] tomorrow morning:\\n(a) Please take NPH 5 units tonight, no regular insulin\\n(b) Do not take NPH morning dose tomorrow.\\n(c) Nothing to eat past midnight.\\n(d) Take your Klonopin 3mg dose tonight.\\n(e) No morning medications prior to [**Telephone/Fax (1) **] including Klonopin.\\n(f) Have fingersticks checked in morning, and prior to [**Telephone/Fax (1) **], and\\ngive Regular Insulin based on sliding scale.\\n.\\n3.  Please take your other medications as below.\\n.\\n4.  If develop lightheadedness, dizziness, sweating, chest pain,\\nshortness of breath, confusion, or other symptoms, please call\\nDr. [**First Name (STitle) **] (or Dr. [**Last Name (STitle) 10166**] or report to the nearest ER.\\n\\nFollowup Instructions:\\nProvider: [**Name10 (NameIs) **],[**Name11 (NameIs) **] [**Hospital **] CLINIC Where: [**Hospital **] CLINIC\\nDate/Time:[**2167-10-5**] 8:00\\n.\\nProvider: [**First Name11 (Name Pattern1) **] [**Last Name (NamePattern4) 28258**], MD Where: RA [**Hospital Unit Name **]\\n([**Hospital Ward Name **]/[**Hospital Ward Name **] COMPLEX) HMFP Phone:[**Telephone/Fax (1) 1387**]\\nDate/Time:[**2167-11-11**] 9:50\\n.\\nProvider: [**First Name11 (Name Pattern1) **] [**Last Name (NamePattern4) 28258**], MD Where: RA [**Hospital Unit Name **]\\n([**Hospital Ward Name **]/[**Hospital Ward Name **] COMPLEX) HMFP Phone:[**Telephone/Fax (1) 1387**]\\nDate/Time:[**2167-11-17**] 1:30\\n\\n\\n                             [**First Name8 (NamePattern2) 1176**] [**Name8 (MD) 1177**] MD [**MD Number(2) 1851**]\\n\\nCompleted by:[**2167-10-5**]</td>\n",
       "    </tr>\n",
       "  </tbody>\n",
       "</table>\n",
       "</div>"
      ],
      "text/plain": [
       "      SUBJECT_ID  HADM_ID  \\\n",
       "9214  18          188822    \n",
       "9215  18          188822    \n",
       "\n",
       "                                                                                                                                                                                                                                                                                                                                                                                                                                                                                                                                                                                                                                                                                                                                                                                                                                                                                                                                                                                                                                                                                                                                                                                                                                                                                                                                                                                                                                                                                                                                                                                                                                                                                                                                                                                                                                                                                                                                                                                                                                                                                                                                                                                                                                                                                                                                                                                                                                                                                                                                                                                                                                                                                                                                                                                                                                                                                                                                                                                                                                                                                                                                                                                                                                                                                                                                                                                                                                                                                                                                                                                                                                                                                                                                                                                                                                                                                                                                                                                                                                                                                                                                                                                                                                                                                                                                                                                                                                                                                                                                                                                                                                                                                                                                                                                                                                                                                                                                                                                                                                                                                                                                                                                                                                                                                                                                                                                                                                                                                                                                                                                                                                                                                                                                                                                                                                                                                                                                                                                                                                                                                                                                                                                                                                                                                                                                                                                                                                                                                                                                                                                                                                                                                                                                                                                                                                                                                                                                                                                                                                                                                                                                                                                                                                                                                                                                                                                                                                                                                                                                                                                                                                                                                                                                                                                                                                                                                                                                                                                                                                                                                                                                                                                                                                                                                                                                                                                                                                                                                                                                                                                                                                                                                                                                                                                                                                                                                                                                                                                                                                                                                                                                                                                                                                                                                                                                                                                                                                                                                                                                                                                                                                                                                                                                                                                                                                                                                                                                                                                                                                                                                                                                                                                                                                                                                                                                                                                                                                          TEXT  \n",
       "9214  Admission Date:  [**2167-9-30**]              Discharge Date:   [**2167-10-2**]\\n\\nDate of Birth:  [**2116-11-29**]             Sex:   M\\n\\nService: PSYCHIATRY\\n\\nAllergies:\\nBactrim\\n\\nAttending:[**First Name3 (LF) 7342**]\\nChief Complaint:\\n\"I'm just so depressed, I can't do anything\"\\n\\nMajor Surgical or Invasive Procedure:\\nNone\\n\\nHistory of Present Illness:\\nPt reports 3-4 weeks ago he noticed an increase of stress at\\nwork and at home at the same time that he was losing weight to\\ngain better control over his diabetes (40lb in [**5-15**] weeks).  Pt\\nreports having increasingly frequent panic attacks which he\\ncontrolled with Klonopin and occassional Xanax.  He also noticed\\ndecrease in sleep, energy, concentration, interest and\\nmotivation, and an increase in anhedonia over the past [**2-12**]\\nweeks.\\n His psychiatrist began Zoloft which after 3-4 days made him\\njittery and this was switched to Celexa which he seems to be\\ntolerating better, although his neurovegetative sx seem to\\nworsen.  He denies SI but reports fleeting, ego dystonic\\nthoughts of hurting his wife, and has not acted on any of these\\nthoughts.  Pt reports ruminations concerning whether he is\\nschizophrenic, will have to stay in the hospital forever, or\\nwill be on meds forever.  Pt and wife also report guilt over\\nallowing two children to develop bad sleeping habits such that\\nnow children and wife sleep in bed and pt sleeps in chair\\ndownstairs.\\n\\n\\nPast Medical History:\\n- IDDM, Type II\\n- OSA\\n- Borderline HTN\\n- Hypercholestremia\\n- h/o RBBB\\n\\nPAST PSYCHIATRIC HISTORY:\\nPanic d/o x 20yrs on Klonopin x 12 yrs, occassional Xanax\\nOutpt psychiatry intermittently, until 4 weeks ago when he began\\nto see Dr. [**Last Name (STitle) 10166**] with significant depression since [**Month (only) 205**].\\n[**Month (only) 404**] of this year pt and wife sought counseling for sleep\\nissue with children x 2 sessions.\\nNo assaultive or suicidal behavior\\n\\n\\nSocial History:\\nSUBSTANCE ABUSE HISTORY:\\nDenies alcohol, tobacco or other street drugs.  One episode of\\nMJ use\\nin [**2140**].\\n\\nSOCIAL HISTORY:\\nAttorney for [**Company 28241**], [**Location (un) 511**] division.  Married\\nto [**Doctor First Name **] for 11 yrs this [**5-11**] children 4yo [**Known firstname 122**] and 2\\nyo [**Doctor First Name **].  Denies physical or sexual abuse in past or\\ncurrently.  Denies military or legal hx.\\n\\nFamily History:\\nDenies\\n\\nPhysical Exam:\\nMENTAL STATUS EXAM ON ADMISSION\\nAPPEARANCE & FACIAL EXPRESSION: well-groomed, anxious\\nPOSTURE: sitting up in chair\\nBEHAVIOR (NOTE ANY ABNORMAL MOVEMENTS): none noted\\nATTITUDE (E.G., COOPERATIVE, PROVOCATIVE): cooperative in\\nconversation but somewhat guarded\\nSPEECH (E.G., PRESSURED, SLOWED, DYSARTHRIC, APHASIC, ETC.):\\nnormal flow, articulation and prosody\\nMOOD: anxious\\nAFFECT (NOTE RANGE, REACTIVITY, APPROPRIATENESS, ETC.): blunted\\naffect with moderate range/reactivity, congruent\\nTHOUGHT FORM (E.G., LOOSENED ASSOCIATIONS, TANGENTIALITY,\\nCIRCUMSTANTIALITY, FLIGHT OF IDEAS, ETC.): No LOA/FOI, [**Doctor Last Name **],\\ncirc\\nTHOUGHT CONTENT (E.G., PREOCCUPATIONS, OBSESSIONS, DELUSIONS,\\nETC.):  Fears he is schizophrenic because of the thoughts to\\nhurt his wife, distorted thinking regarding work, somewhat\\nparanoid about confidentiality issues and conditions of CV\\nABNORMAL PERCEPTIONS (E.G., HALLUCINATIONS): denied\\nNEUROVEGETATIVE SYMPTOMS (E.G., DISTURBANCES OF SLEEP, APPETITE,\\nENERGY, LIBIDO): poor sleep, energy, interest\\nSUICIDALITY/HOMICIDALITY (INCLUDE IDEATION, INTENT, PLAN):\\nfleeting thoughts as above to hurt wife, denies plan, SI\\nINSIGHT AND JUDGMENT: limited\\nCOGNITIVE ASSESSMENT:\\nSENSORIUM (E.G., ALERT, DROWSY, SOMNOLENT): alert\\nORIENTATION: x 3\\nATTENTION (DIGIT SPAN, SERIAL SEVENS, ETC.): not tested\\nMEMORY (SHORT- AND LONG-TERM): registration and long term intact\\nCALCULATIONS: not tested\\nFUND OF KNOWLEDGE (ESTIMATE INTELLIGENCE): above average\\nPROVERB INTERPRETATION: not tested\\nSIMILARITIES/ANALOGIES: not tested\\n\\nPHYSICAL EXAM ON ADMISSION:\\nVSS, exam within normal limits\\n\\nPertinent Results:\\n[**2167-9-30**] 11:23AM   %HbA1c-6.3*# [Hgb]-DONE [A1c]-DONE\\n[**2167-9-30**] 11:15AM   GLUCOSE-255* UREA N-11 CREAT-0.9 SODIUM-137\\nPOTASSIUM-4.1 CHLORIDE-100 TOTAL CO2-28 ANION GAP-13\\n[**2167-9-30**] 11:15AM   VIT B12-271 FOLATE-13.0\\n[**2167-9-30**] 11:15AM   TSH-1.6\\n[**2167-9-30**] 11:15AM   ASA-NEG ETHANOL-NEG ACETMNPHN-NEG\\nbnzodzpn-NEG barbitrt-NEG tricyclic-NEG\\n[**2167-9-30**] 11:15AM   WBC-9.9 RBC-5.07 HGB-14.8 HCT-42.0 MCV-83\\nMCH-29.1 MCHC-35.2* RDW-13.9\\n[**2167-9-30**] 11:15AM   PLT COUNT-217\\n[**2167-9-30**] 11:01AM URINE  HOURS-RANDOM\\n[**2167-9-30**] 11:01AM URINE  GR HOLD-HOLD\\n[**2167-9-30**] 11:01AM URINE  COLOR-Straw APPEAR-Clear SP [**Last Name (un) 155**]-1.010\\n[**2167-9-30**] 11:01AM URINE  RBC-0-2 WBC-[**3-14**] BACTERIA-MOD YEAST-NONE\\nEPI-0-2\\n\\nBrief Hospital Course:\\nSOMATIC INTERVENTIONS:\\nThe patient was continued on his outpatient medication regimen\\nof Lexapro, Nortriptyline, Seroquel, Klonopin and Trazodone.  He\\nwas also offerred Ambien at HS as needed.  The patient was\\nadmitted for ECT and was cleared by Medicine and  Anesthesia.\\nOf note, per ECT consult, the patient's HS and a.m. doses of\\nKlonopin were held for procudure.  Overnight, prior to transfer,\\nthe DOC was called in response to the patient being agitated and\\ntremulous reporting \"I'm going to die\".  Fingerstick glucose was\\nfound to be over 300 - in response, the patient was given 10\\nunits NPH and received Ativan 2mg IM with fair effect.  On the\\nmorning of transfer, the patient was again found to be tremulous\\nand disoriented, repeating that he felt he was going to die.  He\\nwas again given Ativan 2mg IM with minimal effect.  Fingerstick\\nwas checked and found to be 30.  In the process of obtaining\\nD50, the patient began to demonstrate myoclonic jerking of arms\\nand legs.  Code was called when the patient became unresponsive.\\n\\nTHERAPEUTIC INTERVENTIONS:\\nThe patient is followed as an outpatient by Dr. [**First Name8 (NamePattern2) **] [**Last Name (NamePattern1) 10166**] who\\nreferred him to the inpatient unit for stabilization of his\\nsignificant depression as well as for evaluation for ECT.  Mr.\\n[**Known lastname 28257**] admitted to significantly low mood since [**Month (only) 205**], and\\nendorsed neurovegetative symptoms consistent with an agitated\\ndepression.\\nBEHAVIORAL:\\nThe patient remained in good behavioral control for the duration\\nof his admission, requiring only 15 minute checks.\\nLEGAL:\\nThe patient signed in under conditional voluntary upon arrival.\\n\\nDISPOSITION:\\nThe patient was transfered to an ICU bed after code was called\\nfor unresponsiveness and possible seizure activity.\\n\\nDischarge Disposition:\\nExtended Care\\n\\nFacility:\\n[**Hospital1 18**]\\n\\nDischarge Diagnosis:\\nAXIS I: MDD\\nAXIS II: Deferred\\nAXIS III: IDDM, Type II; OSA; Borderline HTN; h/o RBBB; Seizure\\nA/W hypoglycemia\\n\\nDischarge Condition:\\nMENTAL STATUS EXAM ON DISCHARGE:\\nThe patient is lying supine in bed, jerking arms and legs, with\\nwrithing movements in his trunk.  The patient is unresponsive,\\nwill not attend to voice etc.  Unable to make eye contact.\\nUnable to assess mood, affect or thought process and content.\\nInsight and judgment n/a.\\n\\nDischarge Instructions:\\nTransfer to ICU bed\\n\\nFollowup Instructions:\\n- Transfer to ICU bed\\n- Psychiatry C/L service will follow while on Medicine\\n\\n\\nCompleted by:[**2167-10-2**]                                                                                                                                                                                                                                                                                                                                                                                                                                                                                                                                                                                                                                                                                                                                                                                                                                                                                                                                                                                                                                                                                                                                                                                                                                                                                                                                                                                                                                                                                                                                                                                                                                                                                                                                                                                                                                                                                                                                                                                                                                                                                                                                                                                                                                                                                                                                                                                                                                                                                                                                                                                                                                      \n",
       "9215  Admission Date:  [**2167-10-2**]              Discharge Date:   [**2167-10-4**]\\n\\nDate of Birth:  [**2116-11-29**]             Sex:   M\\n\\nService: MEDICINE\\n\\nAllergies:\\nBactrim\\n\\nAttending:[**First Name3 (LF) 1850**]\\nChief Complaint:\\nDepression\\n\\nMajor Surgical or Invasive Procedure:\\nNone\\n\\n\\nHistory of Present Illness:\\n50 yo M w/ Type 2 DM, depression who was admitted to Deaconness\\n4 for major depressive episode and possible [**First Name3 (LF) **]. While on [**Hospital1 **]\\n4, the patient was given ativan 1 mg x 1. His klonopin was held.\\nHe was given [**1-11**] normal dose of NPH as NPO for [**Month/Day (2) **]. The\\nfollowing am, the paitent was found to be shaking. He was given\\n2 mg ativan and became nonresponsive over the next 20 minutes\\nand a code was called. The patient's fingerstick was 30 so he\\nwas given 1 amp of D50. He was also given 4 mg IV ativan. He\\nstopped shaking and mental status cleared in 30 minutes. He was\\nstarted on a dilantin load. He was seen by neuro who felt that\\nin the setting of hypoglycemia (severe)and withdrawal of his\\nKlonopin, he was at risk to have a seizure.\\n\\nPast Medical History:\\n- IDDM, Type II\\n- OSA\\n- Borderline HTN\\n- Hypercholestremia\\n- h/o RBBB\\n\\nPAST PSYCHIATRIC HISTORY:\\nPanic d/o x 20yrs on Klonopin x 12 yrs, occassional Xanax\\nOutpt psychiatry intermittently, until 4 weeks ago when he began\\nto see Dr. [**Last Name (STitle) 10166**] with significant depression since [**Month (only) 205**].\\n[**Month (only) 404**] of this year pt and wife sought counseling for sleep\\nissue with children x 2 sessions.\\nNo assaultive or suicidal behavior\\n\\n\\nSocial History:\\nSUBSTANCE ABUSE HISTORY:\\nDenies alcohol, tobacco or other street drugs.  One episode of\\nMJ use\\nin [**2140**].\\n\\nSOCIAL HISTORY:\\nAttorney for [**Company 28241**], [**Location (un) 511**] division.  Married\\nto [**Doctor First Name **] for 11 yrs this [**5-11**] children 4yo [**Known firstname 122**] and 2\\nyo [**Doctor First Name **].  Denies physical or sexual abuse in past or\\ncurrently.  Denies military or legal hx.\\n\\n\\nFamily History:\\nDenies\\n\\nPhysical Exam:\\nVS: Tm 99.8 HR 87-133 (98) BP 117-166/75-97 RR 17-27\\nO2 Sat - 95-100% RA 2740/2455\\nGEN: NAD, sitting in bed\\nHEENT: PERRL, EOMI, sclera anicteric, mmm, no OP lesions\\nCV: Normal S1/S2, RRR, no m/g/r.\\nPUL: CTA b/l.\\nABD: Soft, NT, ND +BS.\\nEXT: No edema.\\nNeuro: A and Ox3, CN 2-12 intact, M [**5-14**] UE/LE b/l, sensation\\ngrossly intact\\n\\n\\nPertinent Results:\\n[**2167-10-3**] 07:30PM BLOOD WBC-12.8* RBC-4.69 Hgb-13.8* Hct-39.7*\\nMCV-85 MCH-29.5 MCHC-34.9 RDW-13.9 Plt Ct-217\\n[**2167-10-3**] 07:30PM BLOOD Plt Ct-217\\n[**2167-10-4**] 07:45AM BLOOD Glucose-186* UreaN-12 Creat-1.0 Na-139\\nK-3.9 Cl-101 HCO3-25 AnGap-17\\n[**2167-10-3**] 07:30PM BLOOD CK-MB-1 cTropnT-<0.01\\n[**2167-10-3**] 06:14AM BLOOD CK-MB-1 cTropnT-<0.01\\n[**2167-10-2**] 03:38PM BLOOD Phenyto-15.5\\n[**2167-10-2**] 11:36AM BLOOD ASA-NEG Ethanol-NEG Acetmnp-NEG\\nBnzodzp-NEG Barbitr-NEG Tricycl-NEG\\n[**2167-10-2**] 11:44AM BLOOD Type-ART pO2-198* pCO2-29* pH-7.54*\\ncalHCO3-26 Base XS-3\\n.\\nEEG\\nThis is a normal EEG in the awake and drowsy states. Note\\nis incidentally made of a resting tachycardia.\\n\\n\\nBrief Hospital Course:\\nA/P: 50M with history of hypertension, type II diabetes,\\noriginally admitted to psychiatry for [**Month/Day/Year **], made NPO p MN for [**Month/Day/Year **]\\nin AM with 1/2 dose of insulin, who was found unresponsive and\\nin apparent seizure state, who was found to have a blood glucose\\nof 30.\\n.\\n1)Convulsions:\\nA code was called and the patient was given Ativan 2mg po x1, as\\nwell as an amp of D50, loaded with Dilantin and transferred to\\nthe MICU.  The seizure was attributed to his hypoglycemic state,\\nalthough psych thought there was an element of Klonopin\\nwithdrawal and thus continued to give Ativan 0.5mg po q4.  Pt\\nhad frequent BS checks in the MICU and patient recovered from\\nhis initial event without any post-seizure sequelae.  Pt\\ncontinued to be monitored and had no further events.  Neurology\\nwas consulted for his ? seizure event and after a negative exam\\nand negative EEG, concluded that it was all due to hypoglycemia,\\nand that further Dilantin would not be necessary.\\nDilantin was d/ced and patient continued to do well.  He was\\neventually transferred to the floor.   All home medications were\\ncontinued and patient continued to express interest in his [**Month/Day/Year **]\\ntreatment on Monday, although refused to be transferred back to\\n[**Hospital1 **] 4.\\nAll home medications although his insulin dose (nph 20 qPM) was\\nhalved (--> NPH 10 qPM) on the floor, and his sugars were\\nrunning in the 150s-250s range.\\nPt was sent home to return for [**Hospital1 **] on Monday as an outpatient.\\nExplicit instructions were given to take all medications as\\nnormal the night before, including his Klonopin, and only take\\n[**1-13**] dose of NPH insulin the night before, NPO p MN, no morning\\nNPH dose, and to cover his elevated morning sugars with Humalog\\nat a conservative sliding scale.  Goal sugars 150s-250s.\\n\\n2) Type 2 DM - follow sugars closely\\n- Continue normal dose insulin while taking POs, and when NPO p\\nMN for [**Month/Day (4) **] in AM, pt was instructed to take [**1-13**] NPH dose the\\nevening before, no NPH in the AM, and to cover with Humalog prn\\naccording to conservative insulin SS to prevent hypoglycemic\\nepisodes.\\n.\\n3) Depression:\\nPt with a h/o refractory depression that was originally admitted\\nto the psych service for [**Month/Day (4) **].  Psych consult remained aware as\\npt was admitted to the MICU and then called out to the floors.\\nRecommended continuing his Klonopin 3mg po bid for his anxiety,\\nand added Ativan 0.5mg po q4 for coverage of his anxiety and\\nalleviation of ? withdrawal during periods when he is off the\\nKlonopin.  Continued his home doses of Celexa, Nortriptyline,\\nSeroquel and trazodone for sleep.\\nPt was to be discharged to return on Monday for [**Month/Day (4) **] treatments\\nas an outpatient.\\n.\\n4) F/E/N:\\n-Diabetic diet, replete lytes prn\\n.\\n5) Code: full\\n.\\n6) Dispo:\\nMedically cleared per MICU team as well as PCP.  [**Name10 (NameIs) **] to be\\ndischarged to follow up with outpatient [**Name10 (NameIs) **] on Monday.\\n\\nMedications on Admission:\\nNortriptylline 50mg qd (started a week PTA)\\nSeroquel 50mg tid\\nKlonopin 3mg [**Hospital1 **]\\nLexapro 20mg po qd\\nTrazadone 200mg qhs\\nCrestor 10mg po qd\\nInsulin SS + NPH 20 qhs\\nLisinopril 10mg po qd\\n\\n\\nDischarge Medications:\\n1. Nortriptyline 50 mg Capsule Sig: One (1) Capsule PO DAILY\\n(Daily).\\nDisp:*30 Capsule(s)* Refills:*2*\\n2. Quetiapine 25 mg Tablet Sig: Two (2) Tablet PO TID (3 times a\\nday).\\nDisp:*180 Tablet(s)* Refills:*2*\\n3. Trazodone 100 mg Tablet Sig: Two (2) Tablet PO QHS (once a\\nday (at bedtime)).\\nDisp:*60 Tablet(s)* Refills:*2*\\n4. Escitalopram 10 mg Tablet Sig: Two (2) Tablet PO DAILY\\n(Daily).\\nDisp:*60 Tablet(s)* Refills:*2*\\n5. Rosuvastatin 5 mg Tablet Sig: Two (2) Tablet PO DAILY\\n(Daily).\\nDisp:*60 Tablet(s)* Refills:*2*\\n6. Aspirin 325 mg Tablet Sig: One (1) Tablet PO DAILY (Daily).\\nDisp:*30 Tablet(s)* Refills:*2*\\n7. Lisinopril 10 mg Tablet Sig: One (1) Tablet PO once a day.\\nDisp:*30 Tablet(s)* Refills:*2*\\n8. Insulin NPH Human Recomb 100 unit/mL Suspension Sig: Twenty\\n(20) units Subcutaneous qAM (in the morning) .\\nDisp:*qs units* Refills:*2*\\n9. Insulin NPH Human Recomb 100 unit/mL Suspension Sig: Five (5)\\nunits Subcutaneous qhs (at bedtime) for 1 doses.\\nDisp:*qs units* Refills:*0*\\n10. Insulin NPH Human Recomb 100 unit/mL Suspension Sig: Twenty\\n(20) units Subcutaneous at bedtime: Please start after [**Hospital1 **]\\ntreatments tomorrow night [**10-5**].  Do not use this dose when not\\neating.\\nDisp:*qs units* Refills:*2*\\n11. Klonopin 1 mg Tablet Sig: Three (3) Tablet PO twice a day.\\nDisp:*180 Tablet(s)* Refills:*2*\\n12. Ativan 0.5 mg Tablet Sig: One (1) Tablet PO every four (4)\\nhours as needed for anxiety.\\nDisp:*60 Tablet(s)* Refills:*0*\\n\\n\\nDischarge Disposition:\\nHome\\n\\nDischarge Diagnosis:\\nMajor Depression\\nHypoglycemic seizure\\n.\\nDMII\\nHTN\\n\\n\\nDischarge Condition:\\nAfebrile, FS running in high normal range, stable to be\\ndischarged home.\\n\\n\\nDischarge Instructions:\\n1.  Please return Monday morning to receive your [**Month/Year (2) **] treatment\\nwith psychiatry as below.   Please call [**Telephone/Fax (1) **] for your\\nscheduled time.\\n.\\n2.  For preparations for [**Telephone/Fax (1) **] tomorrow morning:\\n(a) Please take NPH 5 units tonight, no regular insulin\\n(b) Do not take NPH morning dose tomorrow.\\n(c) Nothing to eat past midnight.\\n(d) Take your Klonopin 3mg dose tonight.\\n(e) No morning medications prior to [**Telephone/Fax (1) **] including Klonopin.\\n(f) Have fingersticks checked in morning, and prior to [**Telephone/Fax (1) **], and\\ngive Regular Insulin based on sliding scale.\\n.\\n3.  Please take your other medications as below.\\n.\\n4.  If develop lightheadedness, dizziness, sweating, chest pain,\\nshortness of breath, confusion, or other symptoms, please call\\nDr. [**First Name (STitle) **] (or Dr. [**Last Name (STitle) 10166**] or report to the nearest ER.\\n\\nFollowup Instructions:\\nProvider: [**Name10 (NameIs) **],[**Name11 (NameIs) **] [**Hospital **] CLINIC Where: [**Hospital **] CLINIC\\nDate/Time:[**2167-10-5**] 8:00\\n.\\nProvider: [**First Name11 (Name Pattern1) **] [**Last Name (NamePattern4) 28258**], MD Where: RA [**Hospital Unit Name **]\\n([**Hospital Ward Name **]/[**Hospital Ward Name **] COMPLEX) HMFP Phone:[**Telephone/Fax (1) 1387**]\\nDate/Time:[**2167-11-11**] 9:50\\n.\\nProvider: [**First Name11 (Name Pattern1) **] [**Last Name (NamePattern4) 28258**], MD Where: RA [**Hospital Unit Name **]\\n([**Hospital Ward Name **]/[**Hospital Ward Name **] COMPLEX) HMFP Phone:[**Telephone/Fax (1) 1387**]\\nDate/Time:[**2167-11-17**] 1:30\\n\\n\\n                             [**First Name8 (NamePattern2) 1176**] [**Name8 (MD) 1177**] MD [**MD Number(2) 1851**]\\n\\nCompleted by:[**2167-10-5**]  "
      ]
     },
     "execution_count": 8,
     "metadata": {},
     "output_type": "execute_result"
    }
   ],
   "source": [
    "# Seeing if discharge summaries are different for repeating (SUBJECT_ID, HADM_ID) pair.\n",
    "pd.set_option('display.max_colwidth',1)\n",
    "noteevents[noteevents.duplicated(subset = [\"SUBJECT_ID\",\"HADM_ID\"], keep = False)].sort_values([\"SUBJECT_ID\"])[['SUBJECT_ID', 'HADM_ID', 'TEXT']].head(2)"
   ]
  },
  {
   "cell_type": "code",
   "execution_count": 9,
   "metadata": {},
   "outputs": [],
   "source": [
    "noteevents.CHARTDATE  = pd.to_datetime(noteevents.CHARTDATE , format = '%Y-%m-%d %H:%M:%S', errors = 'coerce')"
   ]
  },
  {
   "cell_type": "code",
   "execution_count": 10,
   "metadata": {},
   "outputs": [],
   "source": [
    "pd.set_option('display.max_colwidth',50)\n",
    "noteevents.sort_values([\"SUBJECT_ID\",\"HADM_ID\",\"CHARTDATE\"], inplace =True)\n",
    "noteevents.drop_duplicates([\"SUBJECT_ID\",\"HADM_ID\"], inplace = True)\n",
    "\n",
    "noteevents.reset_index(drop = True, inplace = True)"
   ]
  },
  {
   "cell_type": "code",
   "execution_count": 11,
   "metadata": {},
   "outputs": [],
   "source": [
    "top_values = (icd9_code.groupby('ICD9_CODE').\n",
    "              agg({\"SUBJECT_ID\": \"nunique\"}).\n",
    "              reset_index().sort_values(['SUBJECT_ID'], ascending = False).ICD9_CODE.tolist()[:15])"
   ]
  },
  {
   "cell_type": "code",
   "execution_count": 12,
   "metadata": {},
   "outputs": [],
   "source": [
    "icd9_code = icd9_code[icd9_code.ICD9_CODE.isin(top_values)]"
   ]
  },
  {
   "cell_type": "code",
   "execution_count": 13,
   "metadata": {
    "scrolled": true
   },
   "outputs": [
    {
     "data": {
      "text/plain": [
       "Admission Date:                          51704\n",
       "Date of Birth:                           44491\n",
       "Service:                                 44219\n",
       "Allergies:                               38198\n",
       "Attending:                               38060\n",
       "Discharge Diagnosis:                     37863\n",
       "Major Surgical or Invasive Procedure:    34285\n",
       "Physical Exam:                           28767\n",
       "Followup Instructions:                   28401\n",
       "Facility:                                24265\n",
       "dtype: int64"
      ]
     },
     "execution_count": 13,
     "metadata": {},
     "output_type": "execute_result"
    }
   ],
   "source": [
    "import re\n",
    "import itertools\n",
    "\n",
    "def clean_text(text):\n",
    "    return [x for x in list(itertools.chain.from_iterable([t.split(\"<>\") for t in text.replace(\"\\n\",\" \").split(\"|\")])) if len(x) > 0]\n",
    "\n",
    "\n",
    "most_frequent_tags = [re.match(\"^(.*?):\",x).group() for text in noteevents.TEXT for x in text.split(\"\\n\\n\") if pd.notnull(re.match(\"^(.*?):\",x))]\n",
    "pd.Series(most_frequent_tags).value_counts().head(10)"
   ]
  },
  {
   "cell_type": "code",
   "execution_count": 14,
   "metadata": {},
   "outputs": [],
   "source": [
    "irrelevant_tags = [\"Admission Date:\", \"Date of Birth:\", \"Service:\", \"Attending:\", \"Facility:\", \"Medications on Admission:\", \"Discharge Medications:\", \"Completed by:\",\n",
    "\"Dictated By:\" , \"Department:\" , \"Provider:\"]\n",
    "\n",
    "updated_text = [\"<>\".join([\"|\".join(re.split(\"\\n\\d|\\n\\s+\",re.sub(\"^(.*?):\",\"\",x).strip())) for x in text.split(\"\\n\\n\") if pd.notnull(re.match(\"^(.*?):\",x)) and re.match(\"^(.*?):\",x).group() not in irrelevant_tags ]) for text in noteevents.TEXT]\n",
    "updated_text = [re.sub(\"(\\[.*?\\])\", \"\", text) for text in updated_text]\n",
    "\n",
    "updated_text = [\"|\".join(clean_text(x)) for x in updated_text]"
   ]
  },
  {
   "cell_type": "code",
   "execution_count": 15,
   "metadata": {},
   "outputs": [],
   "source": [
    "noteevents[\"CLEAN_TEXT\"] = updated_text"
   ]
  },
  {
   "cell_type": "code",
   "execution_count": 16,
   "metadata": {},
   "outputs": [],
   "source": [
    "# text = \"\"\"Admission Date: [**2118-6-2**] Discharge Date: [**2118-6-14**]\n",
    "\n",
    "# Date of Birth: Sex: F\n",
    "\n",
    "# Service: MICU and then to [**Doctor Last Name **] Medicine\n",
    "\n",
    "# HISTORY OF PRESENT ILLNESS: This is an 81-year-old female\n",
    "# with a history of emphysema (not on home O2), who presents\n",
    "# with three days of shortness of breath thought by her primary\n",
    "# care doctor to be a COPD flare. Two days prior to admission,\n",
    "# she was started on a prednisone taper and one day prior to\n",
    "# admission she required oxygen at home in order to maintain\n",
    "# oxygen saturation greater than 90%. She has also been on\n",
    "# levofloxacin and nebulizers, and was not getting better, and\n",
    "# presented to the [**Hospital1 18**] Emergency Room.\n",
    "\n",
    "# In the [**Hospital3 **] Emergency Room, her oxygen saturation was\n",
    "# 100% on CPAP. She was not able to be weaned off of this\n",
    "# despite nebulizer treatment and Solu-Medrol 125 mg IV x2.\n",
    "\n",
    "# Review of systems is negative for the following: Fevers,\n",
    "# chills, nausea, vomiting, night sweats, change in weight,\n",
    "# gastrointestinal complaints, neurologic changes, rashes,\n",
    "# palpitations, orthopnea. Is positive for the following:\n",
    "# Chest pressure occasionally with shortness of breath with\n",
    "# exertion, some shortness of breath that is positionally\n",
    "# related, but is improved with nebulizer treatment.\"\"\"\n",
    "\n",
    "# updated_t = \"<>\".join([\"|\".join(re.split(\"\\n\\d|\\n\\s+\",re.sub(\"^(.*?):\",\"\",x).strip())) for x in text.split(\"\\n\\n\") if pd.notnull(re.match(\"^(.*?):\",x)) and re.match(\"^(.*?):\",x).group() not in irrelevant_tags ])\n",
    "# updated_t = re.sub(\"(\\[.*?\\])\", \"\", updated_t)\n",
    "# updated_t = \"|\".join(clean_text(updated_t))\n",
    "# updated_t.split(\"|\")"
   ]
  },
  {
   "cell_type": "markdown",
   "metadata": {},
   "source": [
    "# Training Multi-Label Model"
   ]
  },
  {
   "cell_type": "code",
   "execution_count": 17,
   "metadata": {},
   "outputs": [],
   "source": [
    "# !pip install scispacy"
   ]
  },
  {
   "cell_type": "code",
   "execution_count": 18,
   "metadata": {},
   "outputs": [],
   "source": [
    "# Load Huggingface transformers\n",
    "from transformers import TFBertModel,  BertConfig, BertTokenizerFast\n",
    "import tensorflow as tf\n",
    "\n",
    "# For data processing\n",
    "import pandas as pd\n",
    "from sklearn.model_selection import train_test_split"
   ]
  },
  {
   "cell_type": "code",
   "execution_count": 19,
   "metadata": {},
   "outputs": [],
   "source": [
    "# Load pre-trained model tokenizer (vocabulary)\n",
    "tokenizer = BertTokenizerFast.from_pretrained('dmis-lab/biobert-large-cased-v1.1')"
   ]
  },
  {
   "cell_type": "code",
   "execution_count": 20,
   "metadata": {},
   "outputs": [],
   "source": [
    "vocab = tokenizer.vocab.keys()"
   ]
  },
  {
   "cell_type": "code",
   "execution_count": 18,
   "metadata": {},
   "outputs": [
    {
     "name": "stdout",
     "output_type": "stream",
     "text": [
      "Total Length of Vocabulary words are :  58996\n"
     ]
    }
   ],
   "source": [
    "# Total Length\n",
    "print(\"Total Length of Vocabulary words are : \", len(vocab))"
   ]
  },
  {
   "cell_type": "code",
   "execution_count": 5,
   "metadata": {},
   "outputs": [],
   "source": [
    "import spacy\n",
    "import scispacy\n",
    "\n",
    "from scispacy.linking import EntityLinker\n",
    "nlp = spacy.load('en_core_sci_lg')"
   ]
  },
  {
   "cell_type": "code",
   "execution_count": 6,
   "metadata": {},
   "outputs": [
    {
     "name": "stderr",
     "output_type": "stream",
     "text": [
      "C:\\Users\\bansa\\anaconda3\\lib\\site-packages\\sklearn\\base.py:318: UserWarning: Trying to unpickle estimator TfidfTransformer from version 0.20.3 when using version 0.22.1. This might lead to breaking code or invalid results. Use at your own risk.\n",
      "  UserWarning)\n",
      "C:\\Users\\bansa\\anaconda3\\lib\\site-packages\\sklearn\\base.py:318: UserWarning: Trying to unpickle estimator TfidfVectorizer from version 0.20.3 when using version 0.22.1. This might lead to breaking code or invalid results. Use at your own risk.\n",
      "  UserWarning)\n"
     ]
    }
   ],
   "source": [
    "linker = EntityLinker(resolve_abbreviations=False, name=\"umls\") # keeping default thresholds for match percentage.\n",
    "nlp.add_pipe(linker)"
   ]
  },
  {
   "cell_type": "code",
   "execution_count": 7,
   "metadata": {},
   "outputs": [],
   "source": [
    "target_vocab = [word[2:] for word in vocab if \"##\" in word and (len(word[2:]) > 3)] + [word[2:] for word in vocab if \"##\" not in word and (len(word) > 3)]"
   ]
  },
  {
   "cell_type": "code",
   "execution_count": 14,
   "metadata": {},
   "outputs": [],
   "source": [
    "umls_concept_extracted = [[umls_ent for entity in doc.ents for umls_ent in entity._.umls_ents] for doc in nlp.pipe(target_vocab)]"
   ]
  },
  {
   "cell_type": "code",
   "execution_count": 54,
   "metadata": {},
   "outputs": [],
   "source": [
    "umls_concept_cui = [linker.kb.cui_to_entity[concepts[0][0]] for concepts in umls_concept_extracted if len(concepts) > 0]\n",
    "# Capturing all the information shared from the UMLS DB in a dataframe\n",
    "umls_concept_df = pd.DataFrame(umls_concept_cui)"
   ]
  },
  {
   "cell_type": "code",
   "execution_count": 53,
   "metadata": {},
   "outputs": [],
   "source": [
    "# umls_concept_df.to_csv(\"umls_concepts.csv\", index = None)"
   ]
  },
  {
   "cell_type": "code",
   "execution_count": 33,
   "metadata": {},
   "outputs": [],
   "source": [
    "# UMLs provides a class name to each of its TXXX identifier, TXXX is code for parents for each of the CUI numbers a unique concept\n",
    "# identifier used by UMLs Kb\n",
    "\n",
    "# To obtain this file please login to https://www.nlm.nih.gov/research/umls/index.html\n",
    "# Shared in Github Repo of the book :)\n",
    "type2namemap = pd.read_csv(\"SRDEF\", sep =\"|\", header = None)\n",
    "type2namemap = type2namemap.iloc[:,:3]\n",
    "type2namemap.columns = [\"ClassType\",\"TypeID\",\"TypeName\"]\n",
    "typenamemap = {row[\"TypeID\"]:row[\"TypeName\"] for i,row in type2namemap.iterrows()}"
   ]
  },
  {
   "cell_type": "code",
   "execution_count": 55,
   "metadata": {},
   "outputs": [],
   "source": [
    "concept_df = pd.Series([typenamemap[typeid] for types in umls_concept_df.types for typeid in types]).value_counts().reset_index()\n",
    "concept_df.columns = [\"concept\",\"count\"]"
   ]
  },
  {
   "cell_type": "code",
   "execution_count": 62,
   "metadata": {},
   "outputs": [
    {
     "data": {
      "application/vnd.plotly.v1+json": {
       "config": {
        "plotlyServerURL": "https://plot.ly"
       },
       "data": [
        {
         "domain": {
          "x": [
           0,
           1
          ],
          "y": [
           0,
           1
          ]
         },
         "hovertemplate": "concept=%{label}<br>count=%{value}<extra></extra>",
         "labels": [
          "Pharmacologic Substance",
          "Organic Chemical",
          "Gene or Genome",
          "Qualitative Concept",
          "Functional Concept",
          "Intellectual Product",
          "Disease or Syndrome",
          "Amino Acid, Peptide, or Protein",
          "Finding",
          "Spatial Concept",
          "Body Part, Organ, or Organ Component",
          "Biologically Active Substance",
          "Quantitative Concept",
          "Manufactured Object",
          "Therapeutic or Preventive Procedure",
          "Idea or Concept",
          "Geographic Area",
          "Laboratory Procedure",
          "Population Group",
          "Activity"
         ],
         "legendgroup": "",
         "name": "",
         "showlegend": true,
         "type": "pie",
         "values": [
          1128,
          1119,
          1075,
          968,
          783,
          765,
          727,
          710,
          624,
          616,
          565,
          538,
          505,
          498,
          485,
          384,
          373,
          322,
          289,
          289
         ]
        }
       ],
       "layout": {
        "legend": {
         "tracegroupgap": 0
        },
        "template": {
         "data": {
          "bar": [
           {
            "error_x": {
             "color": "#2a3f5f"
            },
            "error_y": {
             "color": "#2a3f5f"
            },
            "marker": {
             "line": {
              "color": "#E5ECF6",
              "width": 0.5
             }
            },
            "type": "bar"
           }
          ],
          "barpolar": [
           {
            "marker": {
             "line": {
              "color": "#E5ECF6",
              "width": 0.5
             }
            },
            "type": "barpolar"
           }
          ],
          "carpet": [
           {
            "aaxis": {
             "endlinecolor": "#2a3f5f",
             "gridcolor": "white",
             "linecolor": "white",
             "minorgridcolor": "white",
             "startlinecolor": "#2a3f5f"
            },
            "baxis": {
             "endlinecolor": "#2a3f5f",
             "gridcolor": "white",
             "linecolor": "white",
             "minorgridcolor": "white",
             "startlinecolor": "#2a3f5f"
            },
            "type": "carpet"
           }
          ],
          "choropleth": [
           {
            "colorbar": {
             "outlinewidth": 0,
             "ticks": ""
            },
            "type": "choropleth"
           }
          ],
          "contour": [
           {
            "colorbar": {
             "outlinewidth": 0,
             "ticks": ""
            },
            "colorscale": [
             [
              0,
              "#0d0887"
             ],
             [
              0.1111111111111111,
              "#46039f"
             ],
             [
              0.2222222222222222,
              "#7201a8"
             ],
             [
              0.3333333333333333,
              "#9c179e"
             ],
             [
              0.4444444444444444,
              "#bd3786"
             ],
             [
              0.5555555555555556,
              "#d8576b"
             ],
             [
              0.6666666666666666,
              "#ed7953"
             ],
             [
              0.7777777777777778,
              "#fb9f3a"
             ],
             [
              0.8888888888888888,
              "#fdca26"
             ],
             [
              1,
              "#f0f921"
             ]
            ],
            "type": "contour"
           }
          ],
          "contourcarpet": [
           {
            "colorbar": {
             "outlinewidth": 0,
             "ticks": ""
            },
            "type": "contourcarpet"
           }
          ],
          "heatmap": [
           {
            "colorbar": {
             "outlinewidth": 0,
             "ticks": ""
            },
            "colorscale": [
             [
              0,
              "#0d0887"
             ],
             [
              0.1111111111111111,
              "#46039f"
             ],
             [
              0.2222222222222222,
              "#7201a8"
             ],
             [
              0.3333333333333333,
              "#9c179e"
             ],
             [
              0.4444444444444444,
              "#bd3786"
             ],
             [
              0.5555555555555556,
              "#d8576b"
             ],
             [
              0.6666666666666666,
              "#ed7953"
             ],
             [
              0.7777777777777778,
              "#fb9f3a"
             ],
             [
              0.8888888888888888,
              "#fdca26"
             ],
             [
              1,
              "#f0f921"
             ]
            ],
            "type": "heatmap"
           }
          ],
          "heatmapgl": [
           {
            "colorbar": {
             "outlinewidth": 0,
             "ticks": ""
            },
            "colorscale": [
             [
              0,
              "#0d0887"
             ],
             [
              0.1111111111111111,
              "#46039f"
             ],
             [
              0.2222222222222222,
              "#7201a8"
             ],
             [
              0.3333333333333333,
              "#9c179e"
             ],
             [
              0.4444444444444444,
              "#bd3786"
             ],
             [
              0.5555555555555556,
              "#d8576b"
             ],
             [
              0.6666666666666666,
              "#ed7953"
             ],
             [
              0.7777777777777778,
              "#fb9f3a"
             ],
             [
              0.8888888888888888,
              "#fdca26"
             ],
             [
              1,
              "#f0f921"
             ]
            ],
            "type": "heatmapgl"
           }
          ],
          "histogram": [
           {
            "marker": {
             "colorbar": {
              "outlinewidth": 0,
              "ticks": ""
             }
            },
            "type": "histogram"
           }
          ],
          "histogram2d": [
           {
            "colorbar": {
             "outlinewidth": 0,
             "ticks": ""
            },
            "colorscale": [
             [
              0,
              "#0d0887"
             ],
             [
              0.1111111111111111,
              "#46039f"
             ],
             [
              0.2222222222222222,
              "#7201a8"
             ],
             [
              0.3333333333333333,
              "#9c179e"
             ],
             [
              0.4444444444444444,
              "#bd3786"
             ],
             [
              0.5555555555555556,
              "#d8576b"
             ],
             [
              0.6666666666666666,
              "#ed7953"
             ],
             [
              0.7777777777777778,
              "#fb9f3a"
             ],
             [
              0.8888888888888888,
              "#fdca26"
             ],
             [
              1,
              "#f0f921"
             ]
            ],
            "type": "histogram2d"
           }
          ],
          "histogram2dcontour": [
           {
            "colorbar": {
             "outlinewidth": 0,
             "ticks": ""
            },
            "colorscale": [
             [
              0,
              "#0d0887"
             ],
             [
              0.1111111111111111,
              "#46039f"
             ],
             [
              0.2222222222222222,
              "#7201a8"
             ],
             [
              0.3333333333333333,
              "#9c179e"
             ],
             [
              0.4444444444444444,
              "#bd3786"
             ],
             [
              0.5555555555555556,
              "#d8576b"
             ],
             [
              0.6666666666666666,
              "#ed7953"
             ],
             [
              0.7777777777777778,
              "#fb9f3a"
             ],
             [
              0.8888888888888888,
              "#fdca26"
             ],
             [
              1,
              "#f0f921"
             ]
            ],
            "type": "histogram2dcontour"
           }
          ],
          "mesh3d": [
           {
            "colorbar": {
             "outlinewidth": 0,
             "ticks": ""
            },
            "type": "mesh3d"
           }
          ],
          "parcoords": [
           {
            "line": {
             "colorbar": {
              "outlinewidth": 0,
              "ticks": ""
             }
            },
            "type": "parcoords"
           }
          ],
          "pie": [
           {
            "automargin": true,
            "type": "pie"
           }
          ],
          "scatter": [
           {
            "marker": {
             "colorbar": {
              "outlinewidth": 0,
              "ticks": ""
             }
            },
            "type": "scatter"
           }
          ],
          "scatter3d": [
           {
            "line": {
             "colorbar": {
              "outlinewidth": 0,
              "ticks": ""
             }
            },
            "marker": {
             "colorbar": {
              "outlinewidth": 0,
              "ticks": ""
             }
            },
            "type": "scatter3d"
           }
          ],
          "scattercarpet": [
           {
            "marker": {
             "colorbar": {
              "outlinewidth": 0,
              "ticks": ""
             }
            },
            "type": "scattercarpet"
           }
          ],
          "scattergeo": [
           {
            "marker": {
             "colorbar": {
              "outlinewidth": 0,
              "ticks": ""
             }
            },
            "type": "scattergeo"
           }
          ],
          "scattergl": [
           {
            "marker": {
             "colorbar": {
              "outlinewidth": 0,
              "ticks": ""
             }
            },
            "type": "scattergl"
           }
          ],
          "scattermapbox": [
           {
            "marker": {
             "colorbar": {
              "outlinewidth": 0,
              "ticks": ""
             }
            },
            "type": "scattermapbox"
           }
          ],
          "scatterpolar": [
           {
            "marker": {
             "colorbar": {
              "outlinewidth": 0,
              "ticks": ""
             }
            },
            "type": "scatterpolar"
           }
          ],
          "scatterpolargl": [
           {
            "marker": {
             "colorbar": {
              "outlinewidth": 0,
              "ticks": ""
             }
            },
            "type": "scatterpolargl"
           }
          ],
          "scatterternary": [
           {
            "marker": {
             "colorbar": {
              "outlinewidth": 0,
              "ticks": ""
             }
            },
            "type": "scatterternary"
           }
          ],
          "surface": [
           {
            "colorbar": {
             "outlinewidth": 0,
             "ticks": ""
            },
            "colorscale": [
             [
              0,
              "#0d0887"
             ],
             [
              0.1111111111111111,
              "#46039f"
             ],
             [
              0.2222222222222222,
              "#7201a8"
             ],
             [
              0.3333333333333333,
              "#9c179e"
             ],
             [
              0.4444444444444444,
              "#bd3786"
             ],
             [
              0.5555555555555556,
              "#d8576b"
             ],
             [
              0.6666666666666666,
              "#ed7953"
             ],
             [
              0.7777777777777778,
              "#fb9f3a"
             ],
             [
              0.8888888888888888,
              "#fdca26"
             ],
             [
              1,
              "#f0f921"
             ]
            ],
            "type": "surface"
           }
          ],
          "table": [
           {
            "cells": {
             "fill": {
              "color": "#EBF0F8"
             },
             "line": {
              "color": "white"
             }
            },
            "header": {
             "fill": {
              "color": "#C8D4E3"
             },
             "line": {
              "color": "white"
             }
            },
            "type": "table"
           }
          ]
         },
         "layout": {
          "annotationdefaults": {
           "arrowcolor": "#2a3f5f",
           "arrowhead": 0,
           "arrowwidth": 1
          },
          "coloraxis": {
           "colorbar": {
            "outlinewidth": 0,
            "ticks": ""
           }
          },
          "colorscale": {
           "diverging": [
            [
             0,
             "#8e0152"
            ],
            [
             0.1,
             "#c51b7d"
            ],
            [
             0.2,
             "#de77ae"
            ],
            [
             0.3,
             "#f1b6da"
            ],
            [
             0.4,
             "#fde0ef"
            ],
            [
             0.5,
             "#f7f7f7"
            ],
            [
             0.6,
             "#e6f5d0"
            ],
            [
             0.7,
             "#b8e186"
            ],
            [
             0.8,
             "#7fbc41"
            ],
            [
             0.9,
             "#4d9221"
            ],
            [
             1,
             "#276419"
            ]
           ],
           "sequential": [
            [
             0,
             "#0d0887"
            ],
            [
             0.1111111111111111,
             "#46039f"
            ],
            [
             0.2222222222222222,
             "#7201a8"
            ],
            [
             0.3333333333333333,
             "#9c179e"
            ],
            [
             0.4444444444444444,
             "#bd3786"
            ],
            [
             0.5555555555555556,
             "#d8576b"
            ],
            [
             0.6666666666666666,
             "#ed7953"
            ],
            [
             0.7777777777777778,
             "#fb9f3a"
            ],
            [
             0.8888888888888888,
             "#fdca26"
            ],
            [
             1,
             "#f0f921"
            ]
           ],
           "sequentialminus": [
            [
             0,
             "#0d0887"
            ],
            [
             0.1111111111111111,
             "#46039f"
            ],
            [
             0.2222222222222222,
             "#7201a8"
            ],
            [
             0.3333333333333333,
             "#9c179e"
            ],
            [
             0.4444444444444444,
             "#bd3786"
            ],
            [
             0.5555555555555556,
             "#d8576b"
            ],
            [
             0.6666666666666666,
             "#ed7953"
            ],
            [
             0.7777777777777778,
             "#fb9f3a"
            ],
            [
             0.8888888888888888,
             "#fdca26"
            ],
            [
             1,
             "#f0f921"
            ]
           ]
          },
          "colorway": [
           "#636efa",
           "#EF553B",
           "#00cc96",
           "#ab63fa",
           "#FFA15A",
           "#19d3f3",
           "#FF6692",
           "#B6E880",
           "#FF97FF",
           "#FECB52"
          ],
          "font": {
           "color": "#2a3f5f"
          },
          "geo": {
           "bgcolor": "white",
           "lakecolor": "white",
           "landcolor": "#E5ECF6",
           "showlakes": true,
           "showland": true,
           "subunitcolor": "white"
          },
          "hoverlabel": {
           "align": "left"
          },
          "hovermode": "closest",
          "mapbox": {
           "style": "light"
          },
          "paper_bgcolor": "white",
          "plot_bgcolor": "#E5ECF6",
          "polar": {
           "angularaxis": {
            "gridcolor": "white",
            "linecolor": "white",
            "ticks": ""
           },
           "bgcolor": "#E5ECF6",
           "radialaxis": {
            "gridcolor": "white",
            "linecolor": "white",
            "ticks": ""
           }
          },
          "scene": {
           "xaxis": {
            "backgroundcolor": "#E5ECF6",
            "gridcolor": "white",
            "gridwidth": 2,
            "linecolor": "white",
            "showbackground": true,
            "ticks": "",
            "zerolinecolor": "white"
           },
           "yaxis": {
            "backgroundcolor": "#E5ECF6",
            "gridcolor": "white",
            "gridwidth": 2,
            "linecolor": "white",
            "showbackground": true,
            "ticks": "",
            "zerolinecolor": "white"
           },
           "zaxis": {
            "backgroundcolor": "#E5ECF6",
            "gridcolor": "white",
            "gridwidth": 2,
            "linecolor": "white",
            "showbackground": true,
            "ticks": "",
            "zerolinecolor": "white"
           }
          },
          "shapedefaults": {
           "line": {
            "color": "#2a3f5f"
           }
          },
          "ternary": {
           "aaxis": {
            "gridcolor": "white",
            "linecolor": "white",
            "ticks": ""
           },
           "baxis": {
            "gridcolor": "white",
            "linecolor": "white",
            "ticks": ""
           },
           "bgcolor": "#E5ECF6",
           "caxis": {
            "gridcolor": "white",
            "linecolor": "white",
            "ticks": ""
           }
          },
          "title": {
           "x": 0.05
          },
          "xaxis": {
           "automargin": true,
           "gridcolor": "white",
           "linecolor": "white",
           "ticks": "",
           "title": {
            "standoff": 15
           },
           "zerolinecolor": "white",
           "zerolinewidth": 2
          },
          "yaxis": {
           "automargin": true,
           "gridcolor": "white",
           "linecolor": "white",
           "ticks": "",
           "title": {
            "standoff": 15
           },
           "zerolinecolor": "white",
           "zerolinewidth": 2
          }
         }
        },
        "title": {
         "text": "Count of Biomedical Concepts in BERT Pre-trained Model"
        }
       }
      },
      "text/html": [
       "<div>                            <div id=\"3e3a7db3-5a9f-44b3-b428-bea422f454eb\" class=\"plotly-graph-div\" style=\"height:525px; width:100%;\"></div>            <script type=\"text/javascript\">                require([\"plotly\"], function(Plotly) {                    window.PLOTLYENV=window.PLOTLYENV || {};                                    if (document.getElementById(\"3e3a7db3-5a9f-44b3-b428-bea422f454eb\")) {                    Plotly.newPlot(                        \"3e3a7db3-5a9f-44b3-b428-bea422f454eb\",                        [{\"domain\": {\"x\": [0.0, 1.0], \"y\": [0.0, 1.0]}, \"hovertemplate\": \"concept=%{label}<br>count=%{value}<extra></extra>\", \"labels\": [\"Pharmacologic Substance\", \"Organic Chemical\", \"Gene or Genome\", \"Qualitative Concept\", \"Functional Concept\", \"Intellectual Product\", \"Disease or Syndrome\", \"Amino Acid, Peptide, or Protein\", \"Finding\", \"Spatial Concept\", \"Body Part, Organ, or Organ Component\", \"Biologically Active Substance\", \"Quantitative Concept\", \"Manufactured Object\", \"Therapeutic or Preventive Procedure\", \"Idea or Concept\", \"Geographic Area\", \"Laboratory Procedure\", \"Population Group\", \"Activity\"], \"legendgroup\": \"\", \"name\": \"\", \"showlegend\": true, \"type\": \"pie\", \"values\": [1128, 1119, 1075, 968, 783, 765, 727, 710, 624, 616, 565, 538, 505, 498, 485, 384, 373, 322, 289, 289]}],                        {\"legend\": {\"tracegroupgap\": 0}, \"template\": {\"data\": {\"bar\": [{\"error_x\": {\"color\": \"#2a3f5f\"}, \"error_y\": {\"color\": \"#2a3f5f\"}, \"marker\": {\"line\": {\"color\": \"#E5ECF6\", \"width\": 0.5}}, \"type\": \"bar\"}], \"barpolar\": [{\"marker\": {\"line\": {\"color\": \"#E5ECF6\", \"width\": 0.5}}, \"type\": \"barpolar\"}], \"carpet\": [{\"aaxis\": {\"endlinecolor\": \"#2a3f5f\", \"gridcolor\": \"white\", \"linecolor\": \"white\", \"minorgridcolor\": \"white\", \"startlinecolor\": \"#2a3f5f\"}, \"baxis\": {\"endlinecolor\": \"#2a3f5f\", \"gridcolor\": \"white\", \"linecolor\": \"white\", \"minorgridcolor\": \"white\", \"startlinecolor\": \"#2a3f5f\"}, \"type\": \"carpet\"}], \"choropleth\": [{\"colorbar\": {\"outlinewidth\": 0, \"ticks\": \"\"}, \"type\": \"choropleth\"}], \"contour\": [{\"colorbar\": {\"outlinewidth\": 0, \"ticks\": \"\"}, \"colorscale\": [[0.0, \"#0d0887\"], [0.1111111111111111, \"#46039f\"], [0.2222222222222222, \"#7201a8\"], [0.3333333333333333, \"#9c179e\"], [0.4444444444444444, \"#bd3786\"], [0.5555555555555556, \"#d8576b\"], [0.6666666666666666, \"#ed7953\"], [0.7777777777777778, \"#fb9f3a\"], [0.8888888888888888, \"#fdca26\"], [1.0, \"#f0f921\"]], \"type\": \"contour\"}], \"contourcarpet\": [{\"colorbar\": {\"outlinewidth\": 0, \"ticks\": \"\"}, \"type\": \"contourcarpet\"}], \"heatmap\": [{\"colorbar\": {\"outlinewidth\": 0, \"ticks\": \"\"}, \"colorscale\": [[0.0, \"#0d0887\"], [0.1111111111111111, \"#46039f\"], [0.2222222222222222, \"#7201a8\"], [0.3333333333333333, \"#9c179e\"], [0.4444444444444444, \"#bd3786\"], [0.5555555555555556, \"#d8576b\"], [0.6666666666666666, \"#ed7953\"], [0.7777777777777778, \"#fb9f3a\"], [0.8888888888888888, \"#fdca26\"], [1.0, \"#f0f921\"]], \"type\": \"heatmap\"}], \"heatmapgl\": [{\"colorbar\": {\"outlinewidth\": 0, \"ticks\": \"\"}, \"colorscale\": [[0.0, \"#0d0887\"], [0.1111111111111111, \"#46039f\"], [0.2222222222222222, \"#7201a8\"], [0.3333333333333333, \"#9c179e\"], [0.4444444444444444, \"#bd3786\"], [0.5555555555555556, \"#d8576b\"], [0.6666666666666666, \"#ed7953\"], [0.7777777777777778, \"#fb9f3a\"], [0.8888888888888888, \"#fdca26\"], [1.0, \"#f0f921\"]], \"type\": \"heatmapgl\"}], \"histogram\": [{\"marker\": {\"colorbar\": {\"outlinewidth\": 0, \"ticks\": \"\"}}, \"type\": \"histogram\"}], \"histogram2d\": [{\"colorbar\": {\"outlinewidth\": 0, \"ticks\": \"\"}, \"colorscale\": [[0.0, \"#0d0887\"], [0.1111111111111111, \"#46039f\"], [0.2222222222222222, \"#7201a8\"], [0.3333333333333333, \"#9c179e\"], [0.4444444444444444, \"#bd3786\"], [0.5555555555555556, \"#d8576b\"], [0.6666666666666666, \"#ed7953\"], [0.7777777777777778, \"#fb9f3a\"], [0.8888888888888888, \"#fdca26\"], [1.0, \"#f0f921\"]], \"type\": \"histogram2d\"}], \"histogram2dcontour\": [{\"colorbar\": {\"outlinewidth\": 0, \"ticks\": \"\"}, \"colorscale\": [[0.0, \"#0d0887\"], [0.1111111111111111, \"#46039f\"], [0.2222222222222222, \"#7201a8\"], [0.3333333333333333, \"#9c179e\"], [0.4444444444444444, \"#bd3786\"], [0.5555555555555556, \"#d8576b\"], [0.6666666666666666, \"#ed7953\"], [0.7777777777777778, \"#fb9f3a\"], [0.8888888888888888, \"#fdca26\"], [1.0, \"#f0f921\"]], \"type\": \"histogram2dcontour\"}], \"mesh3d\": [{\"colorbar\": {\"outlinewidth\": 0, \"ticks\": \"\"}, \"type\": \"mesh3d\"}], \"parcoords\": [{\"line\": {\"colorbar\": {\"outlinewidth\": 0, \"ticks\": \"\"}}, \"type\": \"parcoords\"}], \"pie\": [{\"automargin\": true, \"type\": \"pie\"}], \"scatter\": [{\"marker\": {\"colorbar\": {\"outlinewidth\": 0, \"ticks\": \"\"}}, \"type\": \"scatter\"}], \"scatter3d\": [{\"line\": {\"colorbar\": {\"outlinewidth\": 0, \"ticks\": \"\"}}, \"marker\": {\"colorbar\": {\"outlinewidth\": 0, \"ticks\": \"\"}}, \"type\": \"scatter3d\"}], \"scattercarpet\": [{\"marker\": {\"colorbar\": {\"outlinewidth\": 0, \"ticks\": \"\"}}, \"type\": \"scattercarpet\"}], \"scattergeo\": [{\"marker\": {\"colorbar\": {\"outlinewidth\": 0, \"ticks\": \"\"}}, \"type\": \"scattergeo\"}], \"scattergl\": [{\"marker\": {\"colorbar\": {\"outlinewidth\": 0, \"ticks\": \"\"}}, \"type\": \"scattergl\"}], \"scattermapbox\": [{\"marker\": {\"colorbar\": {\"outlinewidth\": 0, \"ticks\": \"\"}}, \"type\": \"scattermapbox\"}], \"scatterpolar\": [{\"marker\": {\"colorbar\": {\"outlinewidth\": 0, \"ticks\": \"\"}}, \"type\": \"scatterpolar\"}], \"scatterpolargl\": [{\"marker\": {\"colorbar\": {\"outlinewidth\": 0, \"ticks\": \"\"}}, \"type\": \"scatterpolargl\"}], \"scatterternary\": [{\"marker\": {\"colorbar\": {\"outlinewidth\": 0, \"ticks\": \"\"}}, \"type\": \"scatterternary\"}], \"surface\": [{\"colorbar\": {\"outlinewidth\": 0, \"ticks\": \"\"}, \"colorscale\": [[0.0, \"#0d0887\"], [0.1111111111111111, \"#46039f\"], [0.2222222222222222, \"#7201a8\"], [0.3333333333333333, \"#9c179e\"], [0.4444444444444444, \"#bd3786\"], [0.5555555555555556, \"#d8576b\"], [0.6666666666666666, \"#ed7953\"], [0.7777777777777778, \"#fb9f3a\"], [0.8888888888888888, \"#fdca26\"], [1.0, \"#f0f921\"]], \"type\": \"surface\"}], \"table\": [{\"cells\": {\"fill\": {\"color\": \"#EBF0F8\"}, \"line\": {\"color\": \"white\"}}, \"header\": {\"fill\": {\"color\": \"#C8D4E3\"}, \"line\": {\"color\": \"white\"}}, \"type\": \"table\"}]}, \"layout\": {\"annotationdefaults\": {\"arrowcolor\": \"#2a3f5f\", \"arrowhead\": 0, \"arrowwidth\": 1}, \"coloraxis\": {\"colorbar\": {\"outlinewidth\": 0, \"ticks\": \"\"}}, \"colorscale\": {\"diverging\": [[0, \"#8e0152\"], [0.1, \"#c51b7d\"], [0.2, \"#de77ae\"], [0.3, \"#f1b6da\"], [0.4, \"#fde0ef\"], [0.5, \"#f7f7f7\"], [0.6, \"#e6f5d0\"], [0.7, \"#b8e186\"], [0.8, \"#7fbc41\"], [0.9, \"#4d9221\"], [1, \"#276419\"]], \"sequential\": [[0.0, \"#0d0887\"], [0.1111111111111111, \"#46039f\"], [0.2222222222222222, \"#7201a8\"], [0.3333333333333333, \"#9c179e\"], [0.4444444444444444, \"#bd3786\"], [0.5555555555555556, \"#d8576b\"], [0.6666666666666666, \"#ed7953\"], [0.7777777777777778, \"#fb9f3a\"], [0.8888888888888888, \"#fdca26\"], [1.0, \"#f0f921\"]], \"sequentialminus\": [[0.0, \"#0d0887\"], [0.1111111111111111, \"#46039f\"], [0.2222222222222222, \"#7201a8\"], [0.3333333333333333, \"#9c179e\"], [0.4444444444444444, \"#bd3786\"], [0.5555555555555556, \"#d8576b\"], [0.6666666666666666, \"#ed7953\"], [0.7777777777777778, \"#fb9f3a\"], [0.8888888888888888, \"#fdca26\"], [1.0, \"#f0f921\"]]}, \"colorway\": [\"#636efa\", \"#EF553B\", \"#00cc96\", \"#ab63fa\", \"#FFA15A\", \"#19d3f3\", \"#FF6692\", \"#B6E880\", \"#FF97FF\", \"#FECB52\"], \"font\": {\"color\": \"#2a3f5f\"}, \"geo\": {\"bgcolor\": \"white\", \"lakecolor\": \"white\", \"landcolor\": \"#E5ECF6\", \"showlakes\": true, \"showland\": true, \"subunitcolor\": \"white\"}, \"hoverlabel\": {\"align\": \"left\"}, \"hovermode\": \"closest\", \"mapbox\": {\"style\": \"light\"}, \"paper_bgcolor\": \"white\", \"plot_bgcolor\": \"#E5ECF6\", \"polar\": {\"angularaxis\": {\"gridcolor\": \"white\", \"linecolor\": \"white\", \"ticks\": \"\"}, \"bgcolor\": \"#E5ECF6\", \"radialaxis\": {\"gridcolor\": \"white\", \"linecolor\": \"white\", \"ticks\": \"\"}}, \"scene\": {\"xaxis\": {\"backgroundcolor\": \"#E5ECF6\", \"gridcolor\": \"white\", \"gridwidth\": 2, \"linecolor\": \"white\", \"showbackground\": true, \"ticks\": \"\", \"zerolinecolor\": \"white\"}, \"yaxis\": {\"backgroundcolor\": \"#E5ECF6\", \"gridcolor\": \"white\", \"gridwidth\": 2, \"linecolor\": \"white\", \"showbackground\": true, \"ticks\": \"\", \"zerolinecolor\": \"white\"}, \"zaxis\": {\"backgroundcolor\": \"#E5ECF6\", \"gridcolor\": \"white\", \"gridwidth\": 2, \"linecolor\": \"white\", \"showbackground\": true, \"ticks\": \"\", \"zerolinecolor\": \"white\"}}, \"shapedefaults\": {\"line\": {\"color\": \"#2a3f5f\"}}, \"ternary\": {\"aaxis\": {\"gridcolor\": \"white\", \"linecolor\": \"white\", \"ticks\": \"\"}, \"baxis\": {\"gridcolor\": \"white\", \"linecolor\": \"white\", \"ticks\": \"\"}, \"bgcolor\": \"#E5ECF6\", \"caxis\": {\"gridcolor\": \"white\", \"linecolor\": \"white\", \"ticks\": \"\"}}, \"title\": {\"x\": 0.05}, \"xaxis\": {\"automargin\": true, \"gridcolor\": \"white\", \"linecolor\": \"white\", \"ticks\": \"\", \"title\": {\"standoff\": 15}, \"zerolinecolor\": \"white\", \"zerolinewidth\": 2}, \"yaxis\": {\"automargin\": true, \"gridcolor\": \"white\", \"linecolor\": \"white\", \"ticks\": \"\", \"title\": {\"standoff\": 15}, \"zerolinecolor\": \"white\", \"zerolinewidth\": 2}}}, \"title\": {\"text\": \"Count of Biomedical Concepts in BERT Pre-trained Model\"}},                        {\"responsive\": true}                    ).then(function(){\n",
       "                            \n",
       "var gd = document.getElementById('3e3a7db3-5a9f-44b3-b428-bea422f454eb');\n",
       "var x = new MutationObserver(function (mutations, observer) {{\n",
       "        var display = window.getComputedStyle(gd).display;\n",
       "        if (!display || display === 'none') {{\n",
       "            console.log([gd, 'removed!']);\n",
       "            Plotly.purge(gd);\n",
       "            observer.disconnect();\n",
       "        }}\n",
       "}});\n",
       "\n",
       "// Listen for the removal of the full notebook cells\n",
       "var notebookContainer = gd.closest('#notebook-container');\n",
       "if (notebookContainer) {{\n",
       "    x.observe(notebookContainer, {childList: true});\n",
       "}}\n",
       "\n",
       "// Listen for the clearing of the current output cell\n",
       "var outputEl = gd.closest('.output');\n",
       "if (outputEl) {{\n",
       "    x.observe(outputEl, {childList: true});\n",
       "}}\n",
       "\n",
       "                        })                };                });            </script>        </div>"
      ]
     },
     "metadata": {},
     "output_type": "display_data"
    }
   ],
   "source": [
    "import plotly.express as px\n",
    "fig = px.pie(concept_df.head(20), values='count', names='concept', title='Count of Biomedical Concepts in BERT Pre-trained Model')\n",
    "fig.show()"
   ]
  },
  {
   "cell_type": "code",
   "execution_count": 44,
   "metadata": {},
   "outputs": [
    {
     "data": {
      "text/plain": [
       "1    16962\n",
       "2     1629\n",
       "3      328\n",
       "dtype: int64"
      ]
     },
     "execution_count": 44,
     "metadata": {},
     "output_type": "execute_result"
    }
   ],
   "source": [
    "# Multiple counting is very less as most of the concepts have single TXXX id mapped to it.\n",
    "pd.Series([len(types) for types in umls_concept_df.types]).value_counts()"
   ]
  },
  {
   "cell_type": "code",
   "execution_count": 9,
   "metadata": {},
   "outputs": [],
   "source": [
    "import pickle\n",
    "with open('linker_umls.pickle', 'wb') as handle:\n",
    "    pickle.dump(umls_concept_extracted, handle, protocol=pickle.HIGHEST_PROTOCOL)"
   ]
  },
  {
   "cell_type": "code",
   "execution_count": 56,
   "metadata": {},
   "outputs": [],
   "source": [
    "subword_len = [len(x.replace(\"##\",\"\")) for x in vocab]\n",
    "token_len = [len(x) for x in vocab]"
   ]
  },
  {
   "cell_type": "code",
   "execution_count": 60,
   "metadata": {},
   "outputs": [
    {
     "data": {
      "image/png": "[encoded data removed]",
      "text/plain": [
       "<Figure size 720x432 with 2 Axes>"
      ]
     },
     "metadata": {
      "needs_background": "light"
     },
     "output_type": "display_data"
    }
   ],
   "source": [
    "import seaborn as sns\n",
    "import matplotlib.pyplot as plt\n",
    "import matplotlib.ticker as ticker\n",
    "\n",
    "with sns.plotting_context(font_scale=2):\n",
    "    fig, axes = plt.subplots(1,2, figsize=(10, 6))\n",
    "    sns.countplot(subword_len, palette=\"Set2\", ax=axes[0])\n",
    "    sns.despine()\n",
    "    axes[0].set_title(\"Subword length distribution\")\n",
    "    axes[0].set_xlabel(\"Length in characters\")\n",
    "    axes[0].set_ylabel(\"Frequency\")\n",
    "    \n",
    "    sns.countplot(token_len, palette=\"Set2\", ax=axes[1])\n",
    "    sns.despine()\n",
    "    axes[1].set_title(\"Token length distribution\")\n",
    "    axes[1].set_xlabel(\"Length in characters\")\n",
    "    axes[1].set_ylabel(\"Frequency\")"
   ]
  },
  {
   "cell_type": "markdown",
   "metadata": {},
   "source": [
    "## Preparing the Data"
   ]
  },
  {
   "cell_type": "code",
   "execution_count": 21,
   "metadata": {},
   "outputs": [],
   "source": [
    "# Making icd9_code unique at SUBJECT ID and HADM_ID level by clubbing different ICD9_CODE\n",
    "icd9_code = icd9_code.groupby([\"SUBJECT_ID\",\"HADM_ID\"])[\"ICD9_CODE\"].apply(list).reset_index()\n",
    "\n",
    "full_data = pd.merge(noteevents, icd9_code, how=\"left\", on = [\"SUBJECT_ID\",\"HADM_ID\"])\n",
    "\n",
    "# Removing any SUBJECT_ID and HADM_ID pair not having the top 15 ICD9 Codes\n",
    "full_data = full_data.dropna(subset = [\"ICD9_CODE\"]).reset_index(drop = True)\n",
    "\n",
    "# Make sure we have text of considerable length\n",
    "full_data.CLEAN_TEXT = [\" \".join([y for y in x.split(\"|\") if len(y.split()) > 3]) for x in full_data.CLEAN_TEXT]\n",
    "\n",
    "full_data.ICD9_CODE = full_data.ICD9_CODE.apply(lambda x : \"|\".join(x))"
   ]
  },
  {
   "cell_type": "code",
   "execution_count": 36,
   "metadata": {},
   "outputs": [],
   "source": [
    "# full_data.to_csv(\"./data.csv\", index = None)"
   ]
  },
  {
   "cell_type": "code",
   "execution_count": 30,
   "metadata": {},
   "outputs": [],
   "source": [
    "# Binarizing the multi- labels\n",
    "from sklearn.preprocessing import MultiLabelBinarizer\n",
    "from sklearn.model_selection import train_test_split\n",
    "\n",
    "mlb = MultiLabelBinarizer()\n",
    "mlb_fit = mlb.fit(full_data.ICD9_CODE.tolist())\n",
    "\n",
    "train_X,val_X,train_y,val_y = train_test_split(full_data[[\"SUBJECT_ID\",\"HADM_ID\",\"CLEAN_TEXT\"]],full_data.ICD9_CODE.values,\n",
    "                                              test_size=0.2, random_state=42)"
   ]
  },
  {
   "cell_type": "code",
   "execution_count": 39,
   "metadata": {},
   "outputs": [
    {
     "data": {
      "text/html": [
       "<div>\n",
       "<style scoped>\n",
       "    .dataframe tbody tr th:only-of-type {\n",
       "        vertical-align: middle;\n",
       "    }\n",
       "\n",
       "    .dataframe tbody tr th {\n",
       "        vertical-align: top;\n",
       "    }\n",
       "\n",
       "    .dataframe thead th {\n",
       "        text-align: right;\n",
       "    }\n",
       "</style>\n",
       "<table border=\"1\" class=\"dataframe\">\n",
       "  <thead>\n",
       "    <tr style=\"text-align: right;\">\n",
       "      <th></th>\n",
       "      <th>ROW_ID</th>\n",
       "      <th>SUBJECT_ID</th>\n",
       "      <th>HADM_ID</th>\n",
       "      <th>CHARTDATE</th>\n",
       "      <th>CHARTTIME</th>\n",
       "      <th>STORETIME</th>\n",
       "      <th>CATEGORY</th>\n",
       "      <th>DESCRIPTION</th>\n",
       "      <th>CGID</th>\n",
       "      <th>ISERROR</th>\n",
       "      <th>TEXT</th>\n",
       "      <th>CLEAN_TEXT</th>\n",
       "      <th>ICD9_CODE</th>\n",
       "    </tr>\n",
       "  </thead>\n",
       "  <tbody>\n",
       "    <tr>\n",
       "      <th>0</th>\n",
       "      <td>44005</td>\n",
       "      <td>3</td>\n",
       "      <td>145834</td>\n",
       "      <td>2101-10-31</td>\n",
       "      <td>NaN</td>\n",
       "      <td>NaN</td>\n",
       "      <td>Discharge summary</td>\n",
       "      <td>Report</td>\n",
       "      <td>NaN</td>\n",
       "      <td>NaN</td>\n",
       "      <td>Admission Date:  [**2101-10-20**]     Discharg...</td>\n",
       "      <td>Admitted from rehabilitation for hypotension (...</td>\n",
       "      <td>5849|4280</td>\n",
       "    </tr>\n",
       "    <tr>\n",
       "      <th>1</th>\n",
       "      <td>20825</td>\n",
       "      <td>6</td>\n",
       "      <td>107064</td>\n",
       "      <td>2175-06-15</td>\n",
       "      <td>NaN</td>\n",
       "      <td>NaN</td>\n",
       "      <td>Discharge summary</td>\n",
       "      <td>Report</td>\n",
       "      <td>NaN</td>\n",
       "      <td>NaN</td>\n",
       "      <td>Admission Date: [**2175-5-30**]        Dischar...</td>\n",
       "      <td>The patient is a 65 year-old woman with end st...</td>\n",
       "      <td>2859</td>\n",
       "    </tr>\n",
       "    <tr>\n",
       "      <th>2</th>\n",
       "      <td>20070</td>\n",
       "      <td>9</td>\n",
       "      <td>150750</td>\n",
       "      <td>2149-11-13</td>\n",
       "      <td>NaN</td>\n",
       "      <td>NaN</td>\n",
       "      <td>Discharge summary</td>\n",
       "      <td>Report</td>\n",
       "      <td>NaN</td>\n",
       "      <td>NaN</td>\n",
       "      <td>Admission Date:  [**2149-11-9**]       Dischar...</td>\n",
       "      <td>Weakness, inability to talk. This is a 41-year...</td>\n",
       "      <td>4280|5849|4019</td>\n",
       "    </tr>\n",
       "    <tr>\n",
       "      <th>3</th>\n",
       "      <td>17390</td>\n",
       "      <td>10</td>\n",
       "      <td>184167</td>\n",
       "      <td>2103-07-06</td>\n",
       "      <td>NaN</td>\n",
       "      <td>NaN</td>\n",
       "      <td>Discharge summary</td>\n",
       "      <td>Report</td>\n",
       "      <td>NaN</td>\n",
       "      <td>NaN</td>\n",
       "      <td>Admission Date:  [**2103-6-28**]       Dischar...</td>\n",
       "      <td>Baby Girl  is a 1,385 gram, former 30 and  wee...</td>\n",
       "      <td>V290</td>\n",
       "    </tr>\n",
       "    <tr>\n",
       "      <th>4</th>\n",
       "      <td>50972</td>\n",
       "      <td>12</td>\n",
       "      <td>112213</td>\n",
       "      <td>2104-08-20</td>\n",
       "      <td>NaN</td>\n",
       "      <td>NaN</td>\n",
       "      <td>Discharge summary</td>\n",
       "      <td>Report</td>\n",
       "      <td>NaN</td>\n",
       "      <td>NaN</td>\n",
       "      <td>Admission Date:  [**2104-8-7**]     Discharge ...</td>\n",
       "      <td>2-year-old male with a past medical history si...</td>\n",
       "      <td>4019</td>\n",
       "    </tr>\n",
       "    <tr>\n",
       "      <th>...</th>\n",
       "      <td>...</td>\n",
       "      <td>...</td>\n",
       "      <td>...</td>\n",
       "      <td>...</td>\n",
       "      <td>...</td>\n",
       "      <td>...</td>\n",
       "      <td>...</td>\n",
       "      <td>...</td>\n",
       "      <td>...</td>\n",
       "      <td>...</td>\n",
       "      <td>...</td>\n",
       "      <td>...</td>\n",
       "      <td>...</td>\n",
       "    </tr>\n",
       "    <tr>\n",
       "      <th>44946</th>\n",
       "      <td>51770</td>\n",
       "      <td>99985</td>\n",
       "      <td>176670</td>\n",
       "      <td>2181-02-12</td>\n",
       "      <td>NaN</td>\n",
       "      <td>NaN</td>\n",
       "      <td>Discharge summary</td>\n",
       "      <td>Report</td>\n",
       "      <td>NaN</td>\n",
       "      <td>NaN</td>\n",
       "      <td>Admission Date:  [**2181-1-27**]              ...</td>\n",
       "      <td>Pt's a 53-year-old male patient of Dr.   is he...</td>\n",
       "      <td>51881|2724|2859|53081</td>\n",
       "    </tr>\n",
       "    <tr>\n",
       "      <th>44947</th>\n",
       "      <td>9682</td>\n",
       "      <td>99991</td>\n",
       "      <td>151118</td>\n",
       "      <td>2185-01-05</td>\n",
       "      <td>NaN</td>\n",
       "      <td>NaN</td>\n",
       "      <td>Discharge summary</td>\n",
       "      <td>Report</td>\n",
       "      <td>NaN</td>\n",
       "      <td>NaN</td>\n",
       "      <td>Admission Date:  [**2184-12-24**]             ...</td>\n",
       "      <td>Patient recorded as having No Known Allergies ...</td>\n",
       "      <td>5849|4280|25000</td>\n",
       "    </tr>\n",
       "    <tr>\n",
       "      <th>44948</th>\n",
       "      <td>41993</td>\n",
       "      <td>99992</td>\n",
       "      <td>197084</td>\n",
       "      <td>2144-07-28</td>\n",
       "      <td>NaN</td>\n",
       "      <td>NaN</td>\n",
       "      <td>Discharge summary</td>\n",
       "      <td>Report</td>\n",
       "      <td>NaN</td>\n",
       "      <td>NaN</td>\n",
       "      <td>Admission Date:  [**2144-7-25**]              ...</td>\n",
       "      <td>Bactrim / Norvasc / Lipitor / Cortisone Ms.  i...</td>\n",
       "      <td>5849|53081|4019</td>\n",
       "    </tr>\n",
       "    <tr>\n",
       "      <th>44949</th>\n",
       "      <td>42710</td>\n",
       "      <td>99995</td>\n",
       "      <td>137810</td>\n",
       "      <td>2147-02-11</td>\n",
       "      <td>NaN</td>\n",
       "      <td>NaN</td>\n",
       "      <td>Discharge summary</td>\n",
       "      <td>Report</td>\n",
       "      <td>NaN</td>\n",
       "      <td>NaN</td>\n",
       "      <td>Admission Date:  [**2147-2-8**]              D...</td>\n",
       "      <td>: groin cutdown with mass excision and endovas...</td>\n",
       "      <td>25000|2724|4280|41401</td>\n",
       "    </tr>\n",
       "    <tr>\n",
       "      <th>44950</th>\n",
       "      <td>52180</td>\n",
       "      <td>99999</td>\n",
       "      <td>113369</td>\n",
       "      <td>2118-01-04</td>\n",
       "      <td>NaN</td>\n",
       "      <td>NaN</td>\n",
       "      <td>Discharge summary</td>\n",
       "      <td>Report</td>\n",
       "      <td>NaN</td>\n",
       "      <td>NaN</td>\n",
       "      <td>Admission Date:  [**2117-12-30**]             ...</td>\n",
       "      <td>Pre-Op on clinic visit: A&amp;OX3 PERRL EOMs: inta...</td>\n",
       "      <td>4019|25000</td>\n",
       "    </tr>\n",
       "  </tbody>\n",
       "</table>\n",
       "<p>44951 rows × 13 columns</p>\n",
       "</div>"
      ],
      "text/plain": [
       "       ROW_ID  SUBJECT_ID  HADM_ID  CHARTDATE  CHARTTIME  STORETIME  \\\n",
       "0       44005           3   145834 2101-10-31        NaN        NaN   \n",
       "1       20825           6   107064 2175-06-15        NaN        NaN   \n",
       "2       20070           9   150750 2149-11-13        NaN        NaN   \n",
       "3       17390          10   184167 2103-07-06        NaN        NaN   \n",
       "4       50972          12   112213 2104-08-20        NaN        NaN   \n",
       "...       ...         ...      ...        ...        ...        ...   \n",
       "44946   51770       99985   176670 2181-02-12        NaN        NaN   \n",
       "44947    9682       99991   151118 2185-01-05        NaN        NaN   \n",
       "44948   41993       99992   197084 2144-07-28        NaN        NaN   \n",
       "44949   42710       99995   137810 2147-02-11        NaN        NaN   \n",
       "44950   52180       99999   113369 2118-01-04        NaN        NaN   \n",
       "\n",
       "                CATEGORY DESCRIPTION  CGID  ISERROR  \\\n",
       "0      Discharge summary      Report   NaN      NaN   \n",
       "1      Discharge summary      Report   NaN      NaN   \n",
       "2      Discharge summary      Report   NaN      NaN   \n",
       "3      Discharge summary      Report   NaN      NaN   \n",
       "4      Discharge summary      Report   NaN      NaN   \n",
       "...                  ...         ...   ...      ...   \n",
       "44946  Discharge summary      Report   NaN      NaN   \n",
       "44947  Discharge summary      Report   NaN      NaN   \n",
       "44948  Discharge summary      Report   NaN      NaN   \n",
       "44949  Discharge summary      Report   NaN      NaN   \n",
       "44950  Discharge summary      Report   NaN      NaN   \n",
       "\n",
       "                                                    TEXT  \\\n",
       "0      Admission Date:  [**2101-10-20**]     Discharg...   \n",
       "1      Admission Date: [**2175-5-30**]        Dischar...   \n",
       "2      Admission Date:  [**2149-11-9**]       Dischar...   \n",
       "3      Admission Date:  [**2103-6-28**]       Dischar...   \n",
       "4      Admission Date:  [**2104-8-7**]     Discharge ...   \n",
       "...                                                  ...   \n",
       "44946  Admission Date:  [**2181-1-27**]              ...   \n",
       "44947  Admission Date:  [**2184-12-24**]             ...   \n",
       "44948  Admission Date:  [**2144-7-25**]              ...   \n",
       "44949  Admission Date:  [**2147-2-8**]              D...   \n",
       "44950  Admission Date:  [**2117-12-30**]             ...   \n",
       "\n",
       "                                              CLEAN_TEXT  \\\n",
       "0      Admitted from rehabilitation for hypotension (...   \n",
       "1      The patient is a 65 year-old woman with end st...   \n",
       "2      Weakness, inability to talk. This is a 41-year...   \n",
       "3      Baby Girl  is a 1,385 gram, former 30 and  wee...   \n",
       "4      2-year-old male with a past medical history si...   \n",
       "...                                                  ...   \n",
       "44946  Pt's a 53-year-old male patient of Dr.   is he...   \n",
       "44947  Patient recorded as having No Known Allergies ...   \n",
       "44948  Bactrim / Norvasc / Lipitor / Cortisone Ms.  i...   \n",
       "44949  : groin cutdown with mass excision and endovas...   \n",
       "44950  Pre-Op on clinic visit: A&OX3 PERRL EOMs: inta...   \n",
       "\n",
       "                   ICD9_CODE  \n",
       "0                  5849|4280  \n",
       "1                       2859  \n",
       "2             4280|5849|4019  \n",
       "3                       V290  \n",
       "4                       4019  \n",
       "...                      ...  \n",
       "44946  51881|2724|2859|53081  \n",
       "44947        5849|4280|25000  \n",
       "44948        5849|53081|4019  \n",
       "44949  25000|2724|4280|41401  \n",
       "44950             4019|25000  \n",
       "\n",
       "[44951 rows x 13 columns]"
      ]
     },
     "execution_count": 39,
     "metadata": {},
     "output_type": "execute_result"
    }
   ],
   "source": [
    "full_data"
   ]
  },
  {
   "cell_type": "code",
   "execution_count": 24,
   "metadata": {},
   "outputs": [
    {
     "name": "stderr",
     "output_type": "stream",
     "text": [
      "Some weights of the PyTorch model were not used when initializing the TF 2.0 model TFBertModel: ['cls.predictions.transform.dense.bias', 'cls.predictions.transform.LayerNorm.bias', 'cls.seq_relationship.bias', 'cls.predictions.decoder.weight', 'cls.predictions.decoder.bias', 'cls.predictions.transform.dense.weight', 'cls.predictions.transform.LayerNorm.weight', 'cls.seq_relationship.weight', 'cls.predictions.bias']\n",
      "- This IS expected if you are initializing TFBertModel from a PyTorch model trained on another task or with another architecture (e.g. initializing a TFBertForSequenceClassification model from a BertForPreTraining model).\n",
      "- This IS NOT expected if you are initializing TFBertModel from a PyTorch model that you expect to be exactly identical (e.g. initializing a TFBertForSequenceClassification model from a BertForSequenceClassification model).\n",
      "All the weights of TFBertModel were initialized from the PyTorch model.\n",
      "If your task is similar to the task the model of the checkpoint was trained on, you can already use TFBertModel for predictions without further training.\n"
     ]
    }
   ],
   "source": [
    "# Import BERT Model\n",
    "from transformers import BertModel, BertConfig, TFBertModel\n",
    "config = BertConfig.from_json_file('./dmis_biobert_large/config.json')\n",
    "bert = TFBertModel.from_pretrained(\"./dmis_biobert_large/pytorch_model.bin\",\n",
    "                                   config = config,\n",
    "                                   from_pt = True)"
   ]
  },
  {
   "cell_type": "code",
   "execution_count": 107,
   "metadata": {},
   "outputs": [],
   "source": [
    "EPOCHS = 5\n",
    "BATCH_SIZE = 32\n",
    "MAX_LEN = 510\n",
    "LR = 2e-5\n",
    "NUM_LABELS = 15 # Since we have 15 classes to predict for\n",
    "\n",
    "def df_to_dataset(dataframe, \n",
    "                  dataframe_labels,\n",
    "                  batch_size = BATCH_SIZE, \n",
    "                  max_length = MAX_LEN,\n",
    "                  tokenizer  = tokenizer):\n",
    "    \"\"\"\n",
    "    Loads data into a tf.data.Dataset for finetuning a given model.\n",
    "    \"\"\"\n",
    "    while True:\n",
    "        for i in range(len(dataframe)):\n",
    "            if (i+1) % batch_size == 0:\n",
    "                multiplier = int((i+1)/batch_size)\n",
    "                print(multiplier)\n",
    "                _df = dataframe.iloc[(multiplier-1)*batch_size:multiplier*batch_size,:]\n",
    "                # encode_plus is something that can only be used with a Fast Tokenizer like the one we are using\n",
    "                input_df_dict = tokenizer(\n",
    "                    _df.CLEAN_TEXT.tolist(),\n",
    "                    add_special_tokens=True,\n",
    "                    max_length=max_length, # TO truncate larger sentences, similar to truncation = True\n",
    "                    truncation=True,\n",
    "                    return_token_type_ids=True,\n",
    "                    return_attention_mask=True,\n",
    "                    padding='max_length', # right padding\n",
    "                )\n",
    "                input_df_dict = {k:np.array(v) for k,v in input_df_dict.items()}\n",
    "                yield input_df_dict, mlb_fit.transform(dataframe_labels[(multiplier-1)*batch_size:multiplier*batch_size])\n",
    "    \n",
    "# Note out final data is of the shape ['input_ids', 'attention_mask', 'token_type_ids', 'label']"
   ]
  },
  {
   "cell_type": "code",
   "execution_count": 108,
   "metadata": {},
   "outputs": [],
   "source": [
    "train_gen = df_to_dataset(train_X.reset_index(drop = True),\n",
    "                        train_y)\n",
    "val_gen = df_to_dataset(val_X.reset_index(drop = True),\n",
    "                       val_y)"
   ]
  },
  {
   "cell_type": "code",
   "execution_count": 109,
   "metadata": {},
   "outputs": [],
   "source": [
    "from tensorflow.keras import layers\n",
    "def create_final_model(bert_model = bert):\n",
    "    \n",
    "    input_ids = layers.Input(shape=(MAX_LEN,), dtype=tf.int32, name='input_ids')\n",
    "    token_type_ids = layers.Input((MAX_LEN,), dtype=tf.int32, name='token_type_ids')\n",
    "    attention_mask = layers.Input((MAX_LEN,), dtype=tf.int32, name='attention_mask')\n",
    "    \n",
    "    # Use pooled_output(hidden states of [CLS]) as sentence level embedding\n",
    "    cls_output = bert_model({'input_ids': input_ids, 'attention_mask': attention_mask, 'token_type_ids': token_type_ids})[1]\n",
    "    x = layers.Dense(512, activation='selu')(cls_output)\n",
    "    x = layers.Dense(256, activation='selu')(x)\n",
    "    x = layers.Dropout(rate=0.1)(x)\n",
    "    x = layers.Dense(NUM_LABELS, activation='sigmoid')(x)\n",
    "    model = tf.keras.models.Model(inputs={'input_ids': input_ids, 'attention_mask': attention_mask, 'token_type_ids': token_type_ids}, outputs=x)\n",
    "    return model"
   ]
  },
  {
   "cell_type": "code",
   "execution_count": 110,
   "metadata": {},
   "outputs": [],
   "source": [
    "model = create_final_model(bert_model = bert)"
   ]
  },
  {
   "cell_type": "code",
   "execution_count": 111,
   "metadata": {},
   "outputs": [
    {
     "name": "stdout",
     "output_type": "stream",
     "text": [
      "bert\n"
     ]
    }
   ],
   "source": [
    "# Also we will make sure that we are only learning the custom layers atleast for the few first epochs, then we can learn the whole network\n",
    "for layers in bert.layers:\n",
    "    print(layers.name)\n",
    "    layers.trainable= False"
   ]
  },
  {
   "cell_type": "code",
   "execution_count": 112,
   "metadata": {},
   "outputs": [
    {
     "name": "stdout",
     "output_type": "stream",
     "text": [
      "Model: \"model_5\"\n",
      "__________________________________________________________________________________________________\n",
      "Layer (type)                    Output Shape         Param #     Connected to                     \n",
      "==================================================================================================\n",
      "attention_mask (InputLayer)     [(None, 510)]        0                                            \n",
      "__________________________________________________________________________________________________\n",
      "input_ids (InputLayer)          [(None, 510)]        0                                            \n",
      "__________________________________________________________________________________________________\n",
      "token_type_ids (InputLayer)     [(None, 510)]        0                                            \n",
      "__________________________________________________________________________________________________\n",
      "tf_bert_model (TFBertModel)     TFBaseModelOutputWit 364299264   attention_mask[0][0]             \n",
      "                                                                 input_ids[0][0]                  \n",
      "                                                                 token_type_ids[0][0]             \n",
      "__________________________________________________________________________________________________\n",
      "dense_18 (Dense)                (None, 512)          524800      tf_bert_model[6][1]              \n",
      "__________________________________________________________________________________________________\n",
      "dense_19 (Dense)                (None, 256)          131328      dense_18[0][0]                   \n",
      "__________________________________________________________________________________________________\n",
      "dropout_79 (Dropout)            (None, 256)          0           dense_19[0][0]                   \n",
      "__________________________________________________________________________________________________\n",
      "dense_20 (Dense)                (None, 15)           3855        dropout_79[0][0]                 \n",
      "==================================================================================================\n",
      "Total params: 364,959,247\n",
      "Trainable params: 659,983\n",
      "Non-trainable params: 364,299,264\n",
      "__________________________________________________________________________________________________\n"
     ]
    }
   ],
   "source": [
    "model.summary()"
   ]
  },
  {
   "cell_type": "code",
   "execution_count": 113,
   "metadata": {},
   "outputs": [],
   "source": [
    "model.compile(optimizer= tf.keras.optimizers.Adam(learning_rate=LR),\n",
    "              loss='binary_crossentropy',\n",
    "              metrics=['AUC'])"
   ]
  },
  {
   "cell_type": "code",
   "execution_count": null,
   "metadata": {},
   "outputs": [],
   "source": [
    "# We can also run the following on a GPU device as well."
   ]
  },
  {
   "cell_type": "code",
   "execution_count": 1,
   "metadata": {},
   "outputs": [],
   "source": [
    "history = model.fit(train_gen,\n",
    "                    steps_per_epoch=len(train_X)//BATCH_SIZE,\n",
    "                    epochs=EPOCHS,\n",
    "                    validation_data=val_gen,\n",
    "                    validation_steps=len(val_X)//BATCH_SIZE)"
   ]
  },
  {
   "cell_type": "code",
   "execution_count": 119,
   "metadata": {},
   "outputs": [
    {
     "data": {
      "text/plain": [
       "'2.2.0'"
      ]
     },
     "execution_count": 119,
     "metadata": {},
     "output_type": "execute_result"
    }
   ],
   "source": [
    "tf.__version__"
   ]
  },
  {
   "cell_type": "code",
   "execution_count": 116,
   "metadata": {},
   "outputs": [
    {
     "name": "stdout",
     "output_type": "stream",
     "text": [
      "[name: \"/device:CPU:0\"\n",
      "device_type: \"CPU\"\n",
      "memory_limit: 268435456\n",
      "locality {\n",
      "}\n",
      "incarnation: 5960231667152676197\n",
      ", name: \"/device:XLA_CPU:0\"\n",
      "device_type: \"XLA_CPU\"\n",
      "memory_limit: 17179869184\n",
      "locality {\n",
      "}\n",
      "incarnation: 17750285034995878282\n",
      "physical_device_desc: \"device: XLA_CPU device\"\n",
      ", name: \"/device:XLA_GPU:0\"\n",
      "device_type: \"XLA_GPU\"\n",
      "memory_limit: 17179869184\n",
      "locality {\n",
      "}\n",
      "incarnation: 2820415732038992691\n",
      "physical_device_desc: \"device: XLA_GPU device\"\n",
      "]\n"
     ]
    }
   ],
   "source": [
    "from tensorflow.python.client import device_lib\n",
    "print(device_lib.list_local_devices())"
   ]
  },
  {
   "cell_type": "markdown",
   "metadata": {},
   "source": [
    "# Loading Pytorch Model from TF checkpoint"
   ]
  },
  {
   "cell_type": "code",
   "execution_count": 30,
   "metadata": {},
   "outputs": [],
   "source": [
    "# import os\n",
    "\n",
    "# import numpy as np\n",
    "# import tensorflow as tf\n",
    "# import torch\n",
    "\n",
    "# from transformers import BertModel"
   ]
  },
  {
   "cell_type": "code",
   "execution_count": 31,
   "metadata": {},
   "outputs": [],
   "source": [
    "# def convert_pytorch_checkpoint_to_tf(model: BertModel, ckpt_dir: str, model_name: str):\n",
    "\n",
    "#     \"\"\"\n",
    "#     Args:\n",
    "#         model: BertModel Pytorch model instance to be converted\n",
    "#         ckpt_dir: Tensorflow model directory\n",
    "#         model_name: model name\n",
    "#     Currently supported HF models:\n",
    "#         - Y BertModel\n",
    "#         - N BertForMaskedLM\n",
    "#         - N BertForPreTraining\n",
    "#         - N BertForMultipleChoice\n",
    "#         - N BertForNextSentencePrediction\n",
    "#         - N BertForSequenceClassification\n",
    "#         - N BertForQuestionAnswering\n",
    "#     \"\"\"\n",
    "\n",
    "#     tensors_to_transpose = (\"dense.weight\", \"attention.self.query\", \"attention.self.key\", \"attention.self.value\")\n",
    "\n",
    "#     var_map = (\n",
    "#         (\"layer.\", \"layer_\"),\n",
    "#         (\"word_embeddings.weight\", \"word_embeddings\"),\n",
    "#         (\"position_embeddings.weight\", \"position_embeddings\"),\n",
    "#         (\"token_type_embeddings.weight\", \"token_type_embeddings\"),\n",
    "#         (\".\", \"/\"),\n",
    "#         (\"LayerNorm/weight\", \"LayerNorm/gamma\"),\n",
    "#         (\"LayerNorm/bias\", \"LayerNorm/beta\"),\n",
    "#         (\"weight\", \"kernel\"),\n",
    "#     )\n",
    "\n",
    "#     if not os.path.isdir(ckpt_dir):\n",
    "#         os.makedirs(ckpt_dir)\n",
    "\n",
    "#     state_dict = model.state_dict()\n",
    "\n",
    "#     def to_tf_var_name(name: str):\n",
    "#         for patt, repl in iter(var_map):\n",
    "#             name = name.replace(patt, repl)\n",
    "#         return \"bert/{}\".format(name)\n",
    "\n",
    "#     def create_tf_var(tensor: np.ndarray, name: str, session: tf.compat.v1.Session):\n",
    "#         tf_dtype = tf.dtypes.as_dtype(tensor.dtype)\n",
    "#         tf_var = tf.compat.v1.get_variable(dtype=tf_dtype, shape=tensor.shape, name=name, initializer=tf.zeros_initializer())\n",
    "#         session.run(tf.compat.v1.variables_initializer([tf_var]))\n",
    "#         session.run(tf_var)\n",
    "#         return tf_var\n",
    "\n",
    "#     tf.compat.v1.reset_default_graph()\n",
    "#     with tf.compat.v1.Session() as session:\n",
    "#         for var_name in state_dict:\n",
    "#             tf_name = to_tf_var_name(var_name)\n",
    "#             torch_tensor = state_dict[var_name].numpy()\n",
    "#             if any([x in var_name for x in tensors_to_transpose]):\n",
    "#                 torch_tensor = torch_tensor.T\n",
    "#             tf_var = create_tf_var(tensor=torch_tensor, name=tf_name, session=session)\n",
    "#             tf.keras.backend.set_value(tf_var, torch_tensor)\n",
    "#             tf_weight = session.run(tf_var)\n",
    "#             print(\"Successfully created {}: {}\".format(tf_name, np.allclose(tf_weight, torch_tensor)))\n",
    "\n",
    "#         saver = tf.compat.v1.train.Saver(tf.compat.v1.trainable_variables())\n",
    "#         saver.save(session, os.path.join(ckpt_dir, model_name.replace(\"-\", \"_\") + \".ckpt\"))\n",
    "   "
   ]
  },
  {
   "cell_type": "code",
   "execution_count": 32,
   "metadata": {},
   "outputs": [
    {
     "name": "stdout",
     "output_type": "stream",
     "text": [
      "Successfully created bert/embeddings/position_ids: True\n",
      "Successfully created bert/embeddings/word_embeddings: True\n",
      "Successfully created bert/embeddings/position_embeddings: True\n",
      "Successfully created bert/embeddings/token_type_embeddings: True\n",
      "Successfully created bert/embeddings/LayerNorm/gamma: True\n",
      "Successfully created bert/embeddings/LayerNorm/beta: True\n",
      "Successfully created bert/encoder/layer_0/attention/self/query/kernel: True\n",
      "Successfully created bert/encoder/layer_0/attention/self/query/bias: True\n",
      "Successfully created bert/encoder/layer_0/attention/self/key/kernel: True\n",
      "Successfully created bert/encoder/layer_0/attention/self/key/bias: True\n",
      "Successfully created bert/encoder/layer_0/attention/self/value/kernel: True\n",
      "Successfully created bert/encoder/layer_0/attention/self/value/bias: True\n",
      "Successfully created bert/encoder/layer_0/attention/output/dense/kernel: True\n",
      "Successfully created bert/encoder/layer_0/attention/output/dense/bias: True\n",
      "Successfully created bert/encoder/layer_0/attention/output/LayerNorm/gamma: True\n",
      "Successfully created bert/encoder/layer_0/attention/output/LayerNorm/beta: True\n",
      "Successfully created bert/encoder/layer_0/intermediate/dense/kernel: True\n",
      "Successfully created bert/encoder/layer_0/intermediate/dense/bias: True\n",
      "Successfully created bert/encoder/layer_0/output/dense/kernel: True\n",
      "Successfully created bert/encoder/layer_0/output/dense/bias: True\n",
      "Successfully created bert/encoder/layer_0/output/LayerNorm/gamma: True\n",
      "Successfully created bert/encoder/layer_0/output/LayerNorm/beta: True\n",
      "Successfully created bert/encoder/layer_1/attention/self/query/kernel: True\n",
      "Successfully created bert/encoder/layer_1/attention/self/query/bias: True\n",
      "Successfully created bert/encoder/layer_1/attention/self/key/kernel: True\n",
      "Successfully created bert/encoder/layer_1/attention/self/key/bias: True\n",
      "Successfully created bert/encoder/layer_1/attention/self/value/kernel: True\n",
      "Successfully created bert/encoder/layer_1/attention/self/value/bias: True\n",
      "Successfully created bert/encoder/layer_1/attention/output/dense/kernel: True\n",
      "Successfully created bert/encoder/layer_1/attention/output/dense/bias: True\n",
      "Successfully created bert/encoder/layer_1/attention/output/LayerNorm/gamma: True\n",
      "Successfully created bert/encoder/layer_1/attention/output/LayerNorm/beta: True\n",
      "Successfully created bert/encoder/layer_1/intermediate/dense/kernel: True\n",
      "Successfully created bert/encoder/layer_1/intermediate/dense/bias: True\n",
      "Successfully created bert/encoder/layer_1/output/dense/kernel: True\n",
      "Successfully created bert/encoder/layer_1/output/dense/bias: True\n",
      "Successfully created bert/encoder/layer_1/output/LayerNorm/gamma: True\n",
      "Successfully created bert/encoder/layer_1/output/LayerNorm/beta: True\n",
      "Successfully created bert/encoder/layer_2/attention/self/query/kernel: True\n",
      "Successfully created bert/encoder/layer_2/attention/self/query/bias: True\n",
      "Successfully created bert/encoder/layer_2/attention/self/key/kernel: True\n",
      "Successfully created bert/encoder/layer_2/attention/self/key/bias: True\n",
      "Successfully created bert/encoder/layer_2/attention/self/value/kernel: True\n",
      "Successfully created bert/encoder/layer_2/attention/self/value/bias: True\n",
      "Successfully created bert/encoder/layer_2/attention/output/dense/kernel: True\n",
      "Successfully created bert/encoder/layer_2/attention/output/dense/bias: True\n",
      "Successfully created bert/encoder/layer_2/attention/output/LayerNorm/gamma: True\n",
      "Successfully created bert/encoder/layer_2/attention/output/LayerNorm/beta: True\n",
      "Successfully created bert/encoder/layer_2/intermediate/dense/kernel: True\n",
      "Successfully created bert/encoder/layer_2/intermediate/dense/bias: True\n",
      "Successfully created bert/encoder/layer_2/output/dense/kernel: True\n",
      "Successfully created bert/encoder/layer_2/output/dense/bias: True\n",
      "Successfully created bert/encoder/layer_2/output/LayerNorm/gamma: True\n",
      "Successfully created bert/encoder/layer_2/output/LayerNorm/beta: True\n",
      "Successfully created bert/encoder/layer_3/attention/self/query/kernel: True\n",
      "Successfully created bert/encoder/layer_3/attention/self/query/bias: True\n",
      "Successfully created bert/encoder/layer_3/attention/self/key/kernel: True\n",
      "Successfully created bert/encoder/layer_3/attention/self/key/bias: True\n",
      "Successfully created bert/encoder/layer_3/attention/self/value/kernel: True\n",
      "Successfully created bert/encoder/layer_3/attention/self/value/bias: True\n",
      "Successfully created bert/encoder/layer_3/attention/output/dense/kernel: True\n",
      "Successfully created bert/encoder/layer_3/attention/output/dense/bias: True\n",
      "Successfully created bert/encoder/layer_3/attention/output/LayerNorm/gamma: True\n",
      "Successfully created bert/encoder/layer_3/attention/output/LayerNorm/beta: True\n",
      "Successfully created bert/encoder/layer_3/intermediate/dense/kernel: True\n",
      "Successfully created bert/encoder/layer_3/intermediate/dense/bias: True\n",
      "Successfully created bert/encoder/layer_3/output/dense/kernel: True\n",
      "Successfully created bert/encoder/layer_3/output/dense/bias: True\n",
      "Successfully created bert/encoder/layer_3/output/LayerNorm/gamma: True\n",
      "Successfully created bert/encoder/layer_3/output/LayerNorm/beta: True\n",
      "Successfully created bert/encoder/layer_4/attention/self/query/kernel: True\n",
      "Successfully created bert/encoder/layer_4/attention/self/query/bias: True\n",
      "Successfully created bert/encoder/layer_4/attention/self/key/kernel: True\n",
      "Successfully created bert/encoder/layer_4/attention/self/key/bias: True\n",
      "Successfully created bert/encoder/layer_4/attention/self/value/kernel: True\n",
      "Successfully created bert/encoder/layer_4/attention/self/value/bias: True\n",
      "Successfully created bert/encoder/layer_4/attention/output/dense/kernel: True\n",
      "Successfully created bert/encoder/layer_4/attention/output/dense/bias: True\n",
      "Successfully created bert/encoder/layer_4/attention/output/LayerNorm/gamma: True\n",
      "Successfully created bert/encoder/layer_4/attention/output/LayerNorm/beta: True\n",
      "Successfully created bert/encoder/layer_4/intermediate/dense/kernel: True\n",
      "Successfully created bert/encoder/layer_4/intermediate/dense/bias: True\n",
      "Successfully created bert/encoder/layer_4/output/dense/kernel: True\n",
      "Successfully created bert/encoder/layer_4/output/dense/bias: True\n",
      "Successfully created bert/encoder/layer_4/output/LayerNorm/gamma: True\n",
      "Successfully created bert/encoder/layer_4/output/LayerNorm/beta: True\n",
      "Successfully created bert/encoder/layer_5/attention/self/query/kernel: True\n",
      "Successfully created bert/encoder/layer_5/attention/self/query/bias: True\n",
      "Successfully created bert/encoder/layer_5/attention/self/key/kernel: True\n",
      "Successfully created bert/encoder/layer_5/attention/self/key/bias: True\n",
      "Successfully created bert/encoder/layer_5/attention/self/value/kernel: True\n",
      "Successfully created bert/encoder/layer_5/attention/self/value/bias: True\n",
      "Successfully created bert/encoder/layer_5/attention/output/dense/kernel: True\n",
      "Successfully created bert/encoder/layer_5/attention/output/dense/bias: True\n",
      "Successfully created bert/encoder/layer_5/attention/output/LayerNorm/gamma: True\n",
      "Successfully created bert/encoder/layer_5/attention/output/LayerNorm/beta: True\n",
      "Successfully created bert/encoder/layer_5/intermediate/dense/kernel: True\n",
      "Successfully created bert/encoder/layer_5/intermediate/dense/bias: True\n",
      "Successfully created bert/encoder/layer_5/output/dense/kernel: True\n",
      "Successfully created bert/encoder/layer_5/output/dense/bias: True\n",
      "Successfully created bert/encoder/layer_5/output/LayerNorm/gamma: True\n",
      "Successfully created bert/encoder/layer_5/output/LayerNorm/beta: True\n",
      "Successfully created bert/encoder/layer_6/attention/self/query/kernel: True\n",
      "Successfully created bert/encoder/layer_6/attention/self/query/bias: True\n",
      "Successfully created bert/encoder/layer_6/attention/self/key/kernel: True\n",
      "Successfully created bert/encoder/layer_6/attention/self/key/bias: True\n",
      "Successfully created bert/encoder/layer_6/attention/self/value/kernel: True\n",
      "Successfully created bert/encoder/layer_6/attention/self/value/bias: True\n",
      "Successfully created bert/encoder/layer_6/attention/output/dense/kernel: True\n",
      "Successfully created bert/encoder/layer_6/attention/output/dense/bias: True\n",
      "Successfully created bert/encoder/layer_6/attention/output/LayerNorm/gamma: True\n",
      "Successfully created bert/encoder/layer_6/attention/output/LayerNorm/beta: True\n",
      "Successfully created bert/encoder/layer_6/intermediate/dense/kernel: True\n",
      "Successfully created bert/encoder/layer_6/intermediate/dense/bias: True\n",
      "Successfully created bert/encoder/layer_6/output/dense/kernel: True\n",
      "Successfully created bert/encoder/layer_6/output/dense/bias: True\n",
      "Successfully created bert/encoder/layer_6/output/LayerNorm/gamma: True\n",
      "Successfully created bert/encoder/layer_6/output/LayerNorm/beta: True\n",
      "Successfully created bert/encoder/layer_7/attention/self/query/kernel: True\n",
      "Successfully created bert/encoder/layer_7/attention/self/query/bias: True\n",
      "Successfully created bert/encoder/layer_7/attention/self/key/kernel: True\n",
      "Successfully created bert/encoder/layer_7/attention/self/key/bias: True\n",
      "Successfully created bert/encoder/layer_7/attention/self/value/kernel: True\n",
      "Successfully created bert/encoder/layer_7/attention/self/value/bias: True\n",
      "Successfully created bert/encoder/layer_7/attention/output/dense/kernel: True\n",
      "Successfully created bert/encoder/layer_7/attention/output/dense/bias: True\n",
      "Successfully created bert/encoder/layer_7/attention/output/LayerNorm/gamma: True\n",
      "Successfully created bert/encoder/layer_7/attention/output/LayerNorm/beta: True\n",
      "Successfully created bert/encoder/layer_7/intermediate/dense/kernel: True\n",
      "Successfully created bert/encoder/layer_7/intermediate/dense/bias: True\n",
      "Successfully created bert/encoder/layer_7/output/dense/kernel: True\n",
      "Successfully created bert/encoder/layer_7/output/dense/bias: True\n",
      "Successfully created bert/encoder/layer_7/output/LayerNorm/gamma: True\n",
      "Successfully created bert/encoder/layer_7/output/LayerNorm/beta: True\n",
      "Successfully created bert/encoder/layer_8/attention/self/query/kernel: True\n",
      "Successfully created bert/encoder/layer_8/attention/self/query/bias: True\n",
      "Successfully created bert/encoder/layer_8/attention/self/key/kernel: True\n",
      "Successfully created bert/encoder/layer_8/attention/self/key/bias: True\n",
      "Successfully created bert/encoder/layer_8/attention/self/value/kernel: True\n",
      "Successfully created bert/encoder/layer_8/attention/self/value/bias: True\n",
      "Successfully created bert/encoder/layer_8/attention/output/dense/kernel: True\n",
      "Successfully created bert/encoder/layer_8/attention/output/dense/bias: True\n",
      "Successfully created bert/encoder/layer_8/attention/output/LayerNorm/gamma: True\n",
      "Successfully created bert/encoder/layer_8/attention/output/LayerNorm/beta: True\n",
      "Successfully created bert/encoder/layer_8/intermediate/dense/kernel: True\n",
      "Successfully created bert/encoder/layer_8/intermediate/dense/bias: True\n",
      "Successfully created bert/encoder/layer_8/output/dense/kernel: True\n",
      "Successfully created bert/encoder/layer_8/output/dense/bias: True\n",
      "Successfully created bert/encoder/layer_8/output/LayerNorm/gamma: True\n",
      "Successfully created bert/encoder/layer_8/output/LayerNorm/beta: True\n",
      "Successfully created bert/encoder/layer_9/attention/self/query/kernel: True\n",
      "Successfully created bert/encoder/layer_9/attention/self/query/bias: True\n",
      "Successfully created bert/encoder/layer_9/attention/self/key/kernel: True\n",
      "Successfully created bert/encoder/layer_9/attention/self/key/bias: True\n",
      "Successfully created bert/encoder/layer_9/attention/self/value/kernel: True\n",
      "Successfully created bert/encoder/layer_9/attention/self/value/bias: True\n",
      "Successfully created bert/encoder/layer_9/attention/output/dense/kernel: True\n",
      "Successfully created bert/encoder/layer_9/attention/output/dense/bias: True\n",
      "Successfully created bert/encoder/layer_9/attention/output/LayerNorm/gamma: True\n",
      "Successfully created bert/encoder/layer_9/attention/output/LayerNorm/beta: True\n",
      "Successfully created bert/encoder/layer_9/intermediate/dense/kernel: True\n",
      "Successfully created bert/encoder/layer_9/intermediate/dense/bias: True\n",
      "Successfully created bert/encoder/layer_9/output/dense/kernel: True\n",
      "Successfully created bert/encoder/layer_9/output/dense/bias: True\n",
      "Successfully created bert/encoder/layer_9/output/LayerNorm/gamma: True\n",
      "Successfully created bert/encoder/layer_9/output/LayerNorm/beta: True\n",
      "Successfully created bert/encoder/layer_10/attention/self/query/kernel: True\n",
      "Successfully created bert/encoder/layer_10/attention/self/query/bias: True\n",
      "Successfully created bert/encoder/layer_10/attention/self/key/kernel: True\n",
      "Successfully created bert/encoder/layer_10/attention/self/key/bias: True\n",
      "Successfully created bert/encoder/layer_10/attention/self/value/kernel: True\n",
      "Successfully created bert/encoder/layer_10/attention/self/value/bias: True\n",
      "Successfully created bert/encoder/layer_10/attention/output/dense/kernel: True\n",
      "Successfully created bert/encoder/layer_10/attention/output/dense/bias: True\n",
      "Successfully created bert/encoder/layer_10/attention/output/LayerNorm/gamma: True\n",
      "Successfully created bert/encoder/layer_10/attention/output/LayerNorm/beta: True\n",
      "Successfully created bert/encoder/layer_10/intermediate/dense/kernel: True\n",
      "Successfully created bert/encoder/layer_10/intermediate/dense/bias: True\n",
      "Successfully created bert/encoder/layer_10/output/dense/kernel: True\n",
      "Successfully created bert/encoder/layer_10/output/dense/bias: True\n",
      "Successfully created bert/encoder/layer_10/output/LayerNorm/gamma: True\n",
      "Successfully created bert/encoder/layer_10/output/LayerNorm/beta: True\n",
      "Successfully created bert/encoder/layer_11/attention/self/query/kernel: True\n",
      "Successfully created bert/encoder/layer_11/attention/self/query/bias: True\n",
      "Successfully created bert/encoder/layer_11/attention/self/key/kernel: True\n",
      "Successfully created bert/encoder/layer_11/attention/self/key/bias: True\n",
      "Successfully created bert/encoder/layer_11/attention/self/value/kernel: True\n",
      "Successfully created bert/encoder/layer_11/attention/self/value/bias: True\n",
      "Successfully created bert/encoder/layer_11/attention/output/dense/kernel: True\n",
      "Successfully created bert/encoder/layer_11/attention/output/dense/bias: True\n",
      "Successfully created bert/encoder/layer_11/attention/output/LayerNorm/gamma: True\n",
      "Successfully created bert/encoder/layer_11/attention/output/LayerNorm/beta: True\n",
      "Successfully created bert/encoder/layer_11/intermediate/dense/kernel: True\n",
      "Successfully created bert/encoder/layer_11/intermediate/dense/bias: True\n",
      "Successfully created bert/encoder/layer_11/output/dense/kernel: True\n",
      "Successfully created bert/encoder/layer_11/output/dense/bias: True\n",
      "Successfully created bert/encoder/layer_11/output/LayerNorm/gamma: True\n",
      "Successfully created bert/encoder/layer_11/output/LayerNorm/beta: True\n",
      "Successfully created bert/encoder/layer_12/attention/self/query/kernel: True\n",
      "Successfully created bert/encoder/layer_12/attention/self/query/bias: True\n",
      "Successfully created bert/encoder/layer_12/attention/self/key/kernel: True\n",
      "Successfully created bert/encoder/layer_12/attention/self/key/bias: True\n",
      "Successfully created bert/encoder/layer_12/attention/self/value/kernel: True\n",
      "Successfully created bert/encoder/layer_12/attention/self/value/bias: True\n",
      "Successfully created bert/encoder/layer_12/attention/output/dense/kernel: True\n",
      "Successfully created bert/encoder/layer_12/attention/output/dense/bias: True\n",
      "Successfully created bert/encoder/layer_12/attention/output/LayerNorm/gamma: True\n",
      "Successfully created bert/encoder/layer_12/attention/output/LayerNorm/beta: True\n",
      "Successfully created bert/encoder/layer_12/intermediate/dense/kernel: True\n",
      "Successfully created bert/encoder/layer_12/intermediate/dense/bias: True\n",
      "Successfully created bert/encoder/layer_12/output/dense/kernel: True\n",
      "Successfully created bert/encoder/layer_12/output/dense/bias: True\n",
      "Successfully created bert/encoder/layer_12/output/LayerNorm/gamma: True\n",
      "Successfully created bert/encoder/layer_12/output/LayerNorm/beta: True\n",
      "Successfully created bert/encoder/layer_13/attention/self/query/kernel: True\n",
      "Successfully created bert/encoder/layer_13/attention/self/query/bias: True\n",
      "Successfully created bert/encoder/layer_13/attention/self/key/kernel: True\n",
      "Successfully created bert/encoder/layer_13/attention/self/key/bias: True\n",
      "Successfully created bert/encoder/layer_13/attention/self/value/kernel: True\n",
      "Successfully created bert/encoder/layer_13/attention/self/value/bias: True\n",
      "Successfully created bert/encoder/layer_13/attention/output/dense/kernel: True\n",
      "Successfully created bert/encoder/layer_13/attention/output/dense/bias: True\n"
     ]
    },
    {
     "name": "stdout",
     "output_type": "stream",
     "text": [
      "Successfully created bert/encoder/layer_13/attention/output/LayerNorm/gamma: True\n",
      "Successfully created bert/encoder/layer_13/attention/output/LayerNorm/beta: True\n",
      "Successfully created bert/encoder/layer_13/intermediate/dense/kernel: True\n",
      "Successfully created bert/encoder/layer_13/intermediate/dense/bias: True\n",
      "Successfully created bert/encoder/layer_13/output/dense/kernel: True\n",
      "Successfully created bert/encoder/layer_13/output/dense/bias: True\n",
      "Successfully created bert/encoder/layer_13/output/LayerNorm/gamma: True\n",
      "Successfully created bert/encoder/layer_13/output/LayerNorm/beta: True\n",
      "Successfully created bert/encoder/layer_14/attention/self/query/kernel: True\n",
      "Successfully created bert/encoder/layer_14/attention/self/query/bias: True\n",
      "Successfully created bert/encoder/layer_14/attention/self/key/kernel: True\n",
      "Successfully created bert/encoder/layer_14/attention/self/key/bias: True\n",
      "Successfully created bert/encoder/layer_14/attention/self/value/kernel: True\n",
      "Successfully created bert/encoder/layer_14/attention/self/value/bias: True\n",
      "Successfully created bert/encoder/layer_14/attention/output/dense/kernel: True\n",
      "Successfully created bert/encoder/layer_14/attention/output/dense/bias: True\n",
      "Successfully created bert/encoder/layer_14/attention/output/LayerNorm/gamma: True\n",
      "Successfully created bert/encoder/layer_14/attention/output/LayerNorm/beta: True\n",
      "Successfully created bert/encoder/layer_14/intermediate/dense/kernel: True\n",
      "Successfully created bert/encoder/layer_14/intermediate/dense/bias: True\n",
      "Successfully created bert/encoder/layer_14/output/dense/kernel: True\n",
      "Successfully created bert/encoder/layer_14/output/dense/bias: True\n",
      "Successfully created bert/encoder/layer_14/output/LayerNorm/gamma: True\n",
      "Successfully created bert/encoder/layer_14/output/LayerNorm/beta: True\n",
      "Successfully created bert/encoder/layer_15/attention/self/query/kernel: True\n",
      "Successfully created bert/encoder/layer_15/attention/self/query/bias: True\n",
      "Successfully created bert/encoder/layer_15/attention/self/key/kernel: True\n",
      "Successfully created bert/encoder/layer_15/attention/self/key/bias: True\n",
      "Successfully created bert/encoder/layer_15/attention/self/value/kernel: True\n",
      "Successfully created bert/encoder/layer_15/attention/self/value/bias: True\n",
      "Successfully created bert/encoder/layer_15/attention/output/dense/kernel: True\n",
      "Successfully created bert/encoder/layer_15/attention/output/dense/bias: True\n",
      "Successfully created bert/encoder/layer_15/attention/output/LayerNorm/gamma: True\n",
      "Successfully created bert/encoder/layer_15/attention/output/LayerNorm/beta: True\n",
      "Successfully created bert/encoder/layer_15/intermediate/dense/kernel: True\n",
      "Successfully created bert/encoder/layer_15/intermediate/dense/bias: True\n",
      "Successfully created bert/encoder/layer_15/output/dense/kernel: True\n",
      "Successfully created bert/encoder/layer_15/output/dense/bias: True\n",
      "Successfully created bert/encoder/layer_15/output/LayerNorm/gamma: True\n",
      "Successfully created bert/encoder/layer_15/output/LayerNorm/beta: True\n",
      "Successfully created bert/encoder/layer_16/attention/self/query/kernel: True\n",
      "Successfully created bert/encoder/layer_16/attention/self/query/bias: True\n",
      "Successfully created bert/encoder/layer_16/attention/self/key/kernel: True\n",
      "Successfully created bert/encoder/layer_16/attention/self/key/bias: True\n",
      "Successfully created bert/encoder/layer_16/attention/self/value/kernel: True\n",
      "Successfully created bert/encoder/layer_16/attention/self/value/bias: True\n",
      "Successfully created bert/encoder/layer_16/attention/output/dense/kernel: True\n",
      "Successfully created bert/encoder/layer_16/attention/output/dense/bias: True\n",
      "Successfully created bert/encoder/layer_16/attention/output/LayerNorm/gamma: True\n",
      "Successfully created bert/encoder/layer_16/attention/output/LayerNorm/beta: True\n",
      "Successfully created bert/encoder/layer_16/intermediate/dense/kernel: True\n",
      "Successfully created bert/encoder/layer_16/intermediate/dense/bias: True\n",
      "Successfully created bert/encoder/layer_16/output/dense/kernel: True\n",
      "Successfully created bert/encoder/layer_16/output/dense/bias: True\n",
      "Successfully created bert/encoder/layer_16/output/LayerNorm/gamma: True\n",
      "Successfully created bert/encoder/layer_16/output/LayerNorm/beta: True\n",
      "Successfully created bert/encoder/layer_17/attention/self/query/kernel: True\n",
      "Successfully created bert/encoder/layer_17/attention/self/query/bias: True\n",
      "Successfully created bert/encoder/layer_17/attention/self/key/kernel: True\n",
      "Successfully created bert/encoder/layer_17/attention/self/key/bias: True\n",
      "Successfully created bert/encoder/layer_17/attention/self/value/kernel: True\n",
      "Successfully created bert/encoder/layer_17/attention/self/value/bias: True\n",
      "Successfully created bert/encoder/layer_17/attention/output/dense/kernel: True\n",
      "Successfully created bert/encoder/layer_17/attention/output/dense/bias: True\n",
      "Successfully created bert/encoder/layer_17/attention/output/LayerNorm/gamma: True\n",
      "Successfully created bert/encoder/layer_17/attention/output/LayerNorm/beta: True\n",
      "Successfully created bert/encoder/layer_17/intermediate/dense/kernel: True\n",
      "Successfully created bert/encoder/layer_17/intermediate/dense/bias: True\n",
      "Successfully created bert/encoder/layer_17/output/dense/kernel: True\n",
      "Successfully created bert/encoder/layer_17/output/dense/bias: True\n",
      "Successfully created bert/encoder/layer_17/output/LayerNorm/gamma: True\n",
      "Successfully created bert/encoder/layer_17/output/LayerNorm/beta: True\n",
      "Successfully created bert/encoder/layer_18/attention/self/query/kernel: True\n",
      "Successfully created bert/encoder/layer_18/attention/self/query/bias: True\n",
      "Successfully created bert/encoder/layer_18/attention/self/key/kernel: True\n",
      "Successfully created bert/encoder/layer_18/attention/self/key/bias: True\n",
      "Successfully created bert/encoder/layer_18/attention/self/value/kernel: True\n",
      "Successfully created bert/encoder/layer_18/attention/self/value/bias: True\n",
      "Successfully created bert/encoder/layer_18/attention/output/dense/kernel: True\n",
      "Successfully created bert/encoder/layer_18/attention/output/dense/bias: True\n",
      "Successfully created bert/encoder/layer_18/attention/output/LayerNorm/gamma: True\n",
      "Successfully created bert/encoder/layer_18/attention/output/LayerNorm/beta: True\n",
      "Successfully created bert/encoder/layer_18/intermediate/dense/kernel: True\n",
      "Successfully created bert/encoder/layer_18/intermediate/dense/bias: True\n",
      "Successfully created bert/encoder/layer_18/output/dense/kernel: True\n",
      "Successfully created bert/encoder/layer_18/output/dense/bias: True\n",
      "Successfully created bert/encoder/layer_18/output/LayerNorm/gamma: True\n",
      "Successfully created bert/encoder/layer_18/output/LayerNorm/beta: True\n",
      "Successfully created bert/encoder/layer_19/attention/self/query/kernel: True\n",
      "Successfully created bert/encoder/layer_19/attention/self/query/bias: True\n",
      "Successfully created bert/encoder/layer_19/attention/self/key/kernel: True\n",
      "Successfully created bert/encoder/layer_19/attention/self/key/bias: True\n",
      "Successfully created bert/encoder/layer_19/attention/self/value/kernel: True\n",
      "Successfully created bert/encoder/layer_19/attention/self/value/bias: True\n",
      "Successfully created bert/encoder/layer_19/attention/output/dense/kernel: True\n",
      "Successfully created bert/encoder/layer_19/attention/output/dense/bias: True\n",
      "Successfully created bert/encoder/layer_19/attention/output/LayerNorm/gamma: True\n",
      "Successfully created bert/encoder/layer_19/attention/output/LayerNorm/beta: True\n",
      "Successfully created bert/encoder/layer_19/intermediate/dense/kernel: True\n",
      "Successfully created bert/encoder/layer_19/intermediate/dense/bias: True\n",
      "Successfully created bert/encoder/layer_19/output/dense/kernel: True\n",
      "Successfully created bert/encoder/layer_19/output/dense/bias: True\n",
      "Successfully created bert/encoder/layer_19/output/LayerNorm/gamma: True\n",
      "Successfully created bert/encoder/layer_19/output/LayerNorm/beta: True\n",
      "Successfully created bert/encoder/layer_20/attention/self/query/kernel: True\n",
      "Successfully created bert/encoder/layer_20/attention/self/query/bias: True\n",
      "Successfully created bert/encoder/layer_20/attention/self/key/kernel: True\n",
      "Successfully created bert/encoder/layer_20/attention/self/key/bias: True\n",
      "Successfully created bert/encoder/layer_20/attention/self/value/kernel: True\n",
      "Successfully created bert/encoder/layer_20/attention/self/value/bias: True\n"
     ]
    },
    {
     "name": "stdout",
     "output_type": "stream",
     "text": [
      "Successfully created bert/encoder/layer_20/attention/output/dense/kernel: True\n",
      "Successfully created bert/encoder/layer_20/attention/output/dense/bias: True\n",
      "Successfully created bert/encoder/layer_20/attention/output/LayerNorm/gamma: True\n",
      "Successfully created bert/encoder/layer_20/attention/output/LayerNorm/beta: True\n",
      "Successfully created bert/encoder/layer_20/intermediate/dense/kernel: True\n",
      "Successfully created bert/encoder/layer_20/intermediate/dense/bias: True\n",
      "Successfully created bert/encoder/layer_20/output/dense/kernel: True\n",
      "Successfully created bert/encoder/layer_20/output/dense/bias: True\n",
      "Successfully created bert/encoder/layer_20/output/LayerNorm/gamma: True\n",
      "Successfully created bert/encoder/layer_20/output/LayerNorm/beta: True\n",
      "Successfully created bert/encoder/layer_21/attention/self/query/kernel: True\n",
      "Successfully created bert/encoder/layer_21/attention/self/query/bias: True\n",
      "Successfully created bert/encoder/layer_21/attention/self/key/kernel: True\n",
      "Successfully created bert/encoder/layer_21/attention/self/key/bias: True\n",
      "Successfully created bert/encoder/layer_21/attention/self/value/kernel: True\n",
      "Successfully created bert/encoder/layer_21/attention/self/value/bias: True\n",
      "Successfully created bert/encoder/layer_21/attention/output/dense/kernel: True\n",
      "Successfully created bert/encoder/layer_21/attention/output/dense/bias: True\n",
      "Successfully created bert/encoder/layer_21/attention/output/LayerNorm/gamma: True\n",
      "Successfully created bert/encoder/layer_21/attention/output/LayerNorm/beta: True\n",
      "Successfully created bert/encoder/layer_21/intermediate/dense/kernel: True\n",
      "Successfully created bert/encoder/layer_21/intermediate/dense/bias: True\n",
      "Successfully created bert/encoder/layer_21/output/dense/kernel: True\n",
      "Successfully created bert/encoder/layer_21/output/dense/bias: True\n",
      "Successfully created bert/encoder/layer_21/output/LayerNorm/gamma: True\n",
      "Successfully created bert/encoder/layer_21/output/LayerNorm/beta: True\n",
      "Successfully created bert/encoder/layer_22/attention/self/query/kernel: True\n",
      "Successfully created bert/encoder/layer_22/attention/self/query/bias: True\n",
      "Successfully created bert/encoder/layer_22/attention/self/key/kernel: True\n",
      "Successfully created bert/encoder/layer_22/attention/self/key/bias: True\n",
      "Successfully created bert/encoder/layer_22/attention/self/value/kernel: True\n",
      "Successfully created bert/encoder/layer_22/attention/self/value/bias: True\n",
      "Successfully created bert/encoder/layer_22/attention/output/dense/kernel: True\n",
      "Successfully created bert/encoder/layer_22/attention/output/dense/bias: True\n",
      "Successfully created bert/encoder/layer_22/attention/output/LayerNorm/gamma: True\n",
      "Successfully created bert/encoder/layer_22/attention/output/LayerNorm/beta: True\n",
      "Successfully created bert/encoder/layer_22/intermediate/dense/kernel: True\n",
      "Successfully created bert/encoder/layer_22/intermediate/dense/bias: True\n",
      "Successfully created bert/encoder/layer_22/output/dense/kernel: True\n",
      "Successfully created bert/encoder/layer_22/output/dense/bias: True\n",
      "Successfully created bert/encoder/layer_22/output/LayerNorm/gamma: True\n",
      "Successfully created bert/encoder/layer_22/output/LayerNorm/beta: True\n",
      "Successfully created bert/encoder/layer_23/attention/self/query/kernel: True\n",
      "Successfully created bert/encoder/layer_23/attention/self/query/bias: True\n",
      "Successfully created bert/encoder/layer_23/attention/self/key/kernel: True\n",
      "Successfully created bert/encoder/layer_23/attention/self/key/bias: True\n",
      "Successfully created bert/encoder/layer_23/attention/self/value/kernel: True\n",
      "Successfully created bert/encoder/layer_23/attention/self/value/bias: True\n",
      "Successfully created bert/encoder/layer_23/attention/output/dense/kernel: True\n",
      "Successfully created bert/encoder/layer_23/attention/output/dense/bias: True\n",
      "Successfully created bert/encoder/layer_23/attention/output/LayerNorm/gamma: True\n",
      "Successfully created bert/encoder/layer_23/attention/output/LayerNorm/beta: True\n",
      "Successfully created bert/encoder/layer_23/intermediate/dense/kernel: True\n",
      "Successfully created bert/encoder/layer_23/intermediate/dense/bias: True\n",
      "Successfully created bert/encoder/layer_23/output/dense/kernel: True\n",
      "Successfully created bert/encoder/layer_23/output/dense/bias: True\n",
      "Successfully created bert/encoder/layer_23/output/LayerNorm/gamma: True\n",
      "Successfully created bert/encoder/layer_23/output/LayerNorm/beta: True\n",
      "Successfully created bert/pooler/dense/kernel: True\n",
      "Successfully created bert/pooler/dense/bias: True\n"
     ]
    }
   ],
   "source": [
    "#  model = BertModel.from_pretrained(\n",
    "#         pretrained_model_name_or_path=\"dmis-lab/biobert-large-cased-v1.1\",\n",
    "# #         state_dict=torch.load(\"./dmis-lab_biobert-large-cased-v1.1/pytorch_model.bin\"),\n",
    "#         cache_dir=\"./dmis-lab_biobert-large-cased-v1.1\")\n",
    "\n",
    "# convert_pytorch_checkpoint_to_tf(model=model, ckpt_dir=\"./tf_dmis-lab_biobert-large-cased-v1.1\", model_name=\"tf_biobert-large-cased-v1.1\")\n"
   ]
  },
  {
   "cell_type": "code",
   "execution_count": 49,
   "metadata": {},
   "outputs": [],
   "source": [
    "# # Import BERT Model from TF Checkpoint\n",
    "# from transformers import BertModel, BertConfig\n",
    "# config = BertConfig.from_json_file('./config.json')\n",
    "# bert = BertModel.from_pretrained(\"./tf_dmis-lab_biobert-large-cased-v1.1/tf_biobert_large_cased_v1.1.ckpt.index\",\n",
    "#                                    from_tf=True,\n",
    "#                                 config = config)"
   ]
  },
  {
   "cell_type": "code",
   "execution_count": null,
   "metadata": {},
   "outputs": [],
   "source": []
  }
 ],
 "metadata": {
  "kernelspec": {
   "display_name": "Python 3",
   "language": "python",
   "name": "python3"
  },
  "language_info": {
   "codemirror_mode": {
    "name": "ipython",
    "version": 3
   },
   "file_extension": ".py",
   "mimetype": "text/x-python",
   "name": "python",
   "nbconvert_exporter": "python",
   "pygments_lexer": "ipython3",
   "version": "3.7.6"
  }
 },
 "nbformat": 4,
 "nbformat_minor": 4
}
