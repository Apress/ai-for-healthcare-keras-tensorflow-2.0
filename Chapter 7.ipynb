{
 "cells": [
  {
   "cell_type": "markdown",
   "metadata": {},
   "source": [
    "### Secure Aggregation"
   ]
  },
  {
   "cell_type": "code",
   "execution_count": 1,
   "metadata": {},
   "outputs": [
    {
     "name": "stdout",
     "output_type": "stream",
     "text": [
      "Requirement already satisfied: phe in c:\\users\\bansa\\anaconda3\\lib\\site-packages (1.4.0)\n"
     ]
    }
   ],
   "source": [
    "# !pip install phe"
   ]
  },
  {
   "cell_type": "code",
   "execution_count": 8,
   "metadata": {},
   "outputs": [
    {
     "name": "stdout",
     "output_type": "stream",
     "text": [
      "Addition Of w1 and w2: [0.89262828 0.33812332 0.54309211 0.2123367  0.45496552 0.70010349\n",
      " 1.46363787 0.5433867  1.22290087 0.35337987]\n",
      "Addition Of Encrypted Number: [0.8926282810803743, 0.33812332307203063, 0.5430921091815041, 0.21233669695337742, 0.45496552487219366, 0.7001034860695999, 1.46363787204535, 0.5433866983574012, 1.222900873732598, 0.35337986797106746]\n"
     ]
    }
   ],
   "source": [
    "import phe\n",
    "import numpy as np\n",
    "# Generate Public and Private Key\n",
    "public_key, private_key = phe.generate_paillier_keypair(n_length=1024)\n",
    "weight1 = np.random.rand(10)\n",
    "weight2 = np.random.rand(10)\n",
    "# Note : This is a simple addition but it can be more complex as well\n",
    "sum_of_local_weights = np.add(weight1, weight2)\n",
    "print(\"Addition Of w1 and w2: \" + str(sum_of_local_weights))\n",
    "encrypted_w1 = [public_key.encrypt(i) for i in weight1]      \n",
    "encrypted_w2 = [public_key.encrypt(j) for j in weight2] \n",
    "encrypted_sum_of_w1_and_w2 = [i+j for i,j in zip(encrypted_w1, encrypted_w2)]                       \n",
    "\n",
    "decryped_sum_of_w1_and_w2 = [private_key.decrypt(k) for k in encrypted_sum_of_w1_and_w2] \n",
    "print(\"Addition Of Encrypted Number: \" + str(decryped_sum_of_w1_and_w2))"
   ]
  },
  {
   "cell_type": "markdown",
   "metadata": {},
   "source": [
    "### Tensorflow Federated"
   ]
  },
  {
   "cell_type": "code",
   "execution_count": 1,
   "metadata": {},
   "outputs": [
    {
     "data": {
      "text/plain": [
       "(13779, 13779)"
      ]
     },
     "execution_count": 1,
     "metadata": {},
     "output_type": "execute_result"
    }
   ],
   "source": [
    "import os\n",
    "import glob\n",
    "import cv2\n",
    "\n",
    "BASE_DIR = os.path.join('./Data')\n",
    "parasitized_dir = os.path.join(BASE_DIR,'Parasitized')\n",
    "uninfected_dir = os.path.join(BASE_DIR,'Uninfected')\n",
    "\n",
    "parasitized_files = glob.glob(parasitized_dir+'/*.png')\n",
    "uninfected_files = glob.glob(uninfected_dir+'/*.png')\n",
    "len(parasitized_files), len(uninfected_files)"
   ]
  },
  {
   "cell_type": "code",
   "execution_count": null,
   "metadata": {},
   "outputs": [],
   "source": [
    "from joblib import Parallel, delayed\n",
    "nprocs = os.cpu_count()"
   ]
  },
  {
   "cell_type": "code",
   "execution_count": null,
   "metadata": {},
   "outputs": [],
   "source": [
    "def load_image_shape(img):\n",
    "    return cv2.imread(img).shape\n",
    "\n",
    "results = Parallel(n_jobs=nprocs-1)(delayed(load_image_shape)(img_file) for img_file in parasitized_files + uninfected_files)"
   ]
  },
  {
   "cell_type": "code",
   "execution_count": null,
   "metadata": {},
   "outputs": [],
   "source": [
    "print('Min Dimensions:', np.min(results, axis=0)) \n",
    "print('Avg Dimensions:', np.mean(results, axis=0))\n",
    "print('Median Dimensions:', np.median(results, axis=0))\n",
    "print('Max Dimensions:', np.max(results, axis=0))"
   ]
  },
  {
   "cell_type": "code",
   "execution_count": 2,
   "metadata": {
    "scrolled": true
   },
   "outputs": [],
   "source": [
    "import numpy as np\n",
    "import pandas as pd\n",
    "import tensorflow as tf\n",
    "import matplotlib.pyplot as plt\n",
    "from sklearn.model_selection import train_test_split"
   ]
  },
  {
   "cell_type": "code",
   "execution_count": 3,
   "metadata": {},
   "outputs": [],
   "source": [
    "import tensorflow_federated as tff\n"
   ]
  },
  {
   "cell_type": "code",
   "execution_count": 4,
   "metadata": {},
   "outputs": [],
   "source": [
    "IMG_HEIGHT = 128\n",
    "IMG_WIDTH = 128\n",
    "BATCH_SIZE = 32"
   ]
  },
  {
   "cell_type": "code",
   "execution_count": 5,
   "metadata": {},
   "outputs": [
    {
     "name": "stdout",
     "output_type": "stream",
     "text": [
      "Found 27558 files belonging to 2 classes.\n",
      "Using 22047 files for training.\n"
     ]
    }
   ],
   "source": [
    "train_ds = tf.keras.preprocessing.image_dataset_from_directory(BASE_DIR,\n",
    "                                                               seed=123, \n",
    "                                                               labels='inferred', \n",
    "                                                               label_mode='int',\n",
    "                                                               image_size=(IMG_HEIGHT, IMG_WIDTH),\n",
    "                                                               color_mode='rgb',\n",
    "                                                               subset=\"training\",\n",
    "                                                               shuffle=True,\n",
    "                                                               validation_split = 0.2,\n",
    "                                                               batch_size= BATCH_SIZE)"
   ]
  },
  {
   "cell_type": "code",
   "execution_count": 6,
   "metadata": {},
   "outputs": [
    {
     "name": "stdout",
     "output_type": "stream",
     "text": [
      "Found 27558 files belonging to 2 classes.\n",
      "Using 5511 files for validation.\n"
     ]
    }
   ],
   "source": [
    "val_ds = tf.keras.preprocessing.image_dataset_from_directory(BASE_DIR,\n",
    "                                                               seed=123, \n",
    "                                                               labels='inferred', \n",
    "                                                               label_mode='int',\n",
    "                                                               image_size=(IMG_HEIGHT, IMG_WIDTH),\n",
    "                                                               color_mode='rgb',\n",
    "                                                               subset=\"validation\",\n",
    "                                                               shuffle=True,\n",
    "                                                               validation_split = 0.2,\n",
    "                                                               batch_size= BATCH_SIZE)"
   ]
  },
  {
   "cell_type": "code",
   "execution_count": 7,
   "metadata": {},
   "outputs": [
    {
     "name": "stdout",
     "output_type": "stream",
     "text": [
      "['Parasitized', 'Uninfected']\n"
     ]
    }
   ],
   "source": [
    "class_names = train_ds.class_names\n",
    "print(class_names)"
   ]
  },
  {
   "cell_type": "code",
   "execution_count": 8,
   "metadata": {},
   "outputs": [],
   "source": [
    "NUM_CLIENTS = 10 # Local Nodes\n",
    "CLIENT_LR = 1e-2\n",
    "SERVER_LR = 1e-1 # Central Node"
   ]
  },
  {
   "cell_type": "code",
   "execution_count": 9,
   "metadata": {},
   "outputs": [],
   "source": [
    "NUM_BATCH_CLIENT = int(len(train_ds)/NUM_CLIENTS)"
   ]
  },
  {
   "cell_type": "code",
   "execution_count": 10,
   "metadata": {},
   "outputs": [
    {
     "name": "stdout",
     "output_type": "stream",
     "text": [
      "Adding data from Batch No 0 to 68 for client : Client_1\n",
      "Adding data from Batch No 68 to 136 for client : Client_2\n",
      "Adding data from Batch No 136 to 204 for client : Client_3\n"
     ]
    }
   ],
   "source": [
    "import collections\n",
    "client_train_dataset = collections.OrderedDict()\n",
    "skip = 0\n",
    "try :\n",
    "    for i in range(1, NUM_CLIENTS+1):\n",
    "        client_name = \"Client_\" + str(i)\n",
    "        take = NUM_BATCH_CLIENT\n",
    "        client_data = train_ds.skip(skip).take(take) \n",
    "        x_train, y_train = zip(*client_data)\n",
    "        \n",
    "        # For memory management taking only 3 clients\n",
    "        if i > 3:\n",
    "            NUM_CLIENTS = i-1\n",
    "            break\n",
    "\n",
    "        print(f\"Adding data from Batch No {skip} to {take*i} for client : {client_name}\")\n",
    "\n",
    "        # We are going to unbatch and load the data to prevent data dropping in creating client data later on\n",
    "        data = collections.OrderedDict((('label', \n",
    "                                         [y for x in y_train for y in x]), \n",
    "                                        ('pixels', [y for x in x_train for y in x])))\n",
    "#         data = collections.OrderedDict((('label', (y for x in y_train for y in x), \n",
    "#                                         ('pixels', (y for x in x_train for y in x)))))\n",
    "        client_train_dataset[client_name] = data\n",
    "        skip = take*i\n",
    "        \n",
    "except Exception as e:\n",
    "    print(e)\n",
    "    print(\"Memory Error - Client Data creation stopped\")\n",
    "    print(f\"Total number of clients created are {len(client_train_dataset)}\")\n",
    "    NUM_CLIENTS = len(client_train_dataset)"
   ]
  },
  {
   "cell_type": "code",
   "execution_count": 11,
   "metadata": {},
   "outputs": [],
   "source": [
    "del x_train"
   ]
  },
  {
   "cell_type": "code",
   "execution_count": 12,
   "metadata": {},
   "outputs": [],
   "source": [
    "train_dataset = tff.simulation.FromTensorSlicesClientData(client_train_dataset)"
   ]
  },
  {
   "cell_type": "code",
   "execution_count": 46,
   "metadata": {},
   "outputs": [
    {
     "name": "stdout",
     "output_type": "stream",
     "text": [
      "Adding data from Batch No 0 to 68 for client : Client_1\n",
      "Adding data from Batch No 68 to 136 for client : Client_2\n",
      "Adding data from Batch No 136 to 204 for client : Client_3\n"
     ]
    }
   ],
   "source": [
    "import collections\n",
    "client_test_dataset = collections.OrderedDict()\n",
    "skip = 0\n",
    "try :\n",
    "    for i in range(1, NUM_CLIENTS+1):\n",
    "        client_name = \"Client_\" + str(i)\n",
    "        take = NUM_BATCH_CLIENT\n",
    "        client_data = val_ds.skip(skip).take(take) \n",
    "        x_val, y_val = zip(*client_data)\n",
    "        \n",
    "        # For memory management taking only 3 clients\n",
    "        if i > 3:\n",
    "            NUM_CLIENTS = i-1\n",
    "            break\n",
    "\n",
    "        print(f\"Adding data from Batch No {skip} to {take*i} for client : {client_name}\")\n",
    "\n",
    "        # We are going to unbatch and load the data to prevent data dropping in creating client data later on\n",
    "        data = collections.OrderedDict((('label', \n",
    "                                         [y for x in y_val for y in x]), \n",
    "                                        ('pixels', [y for x in x_val for y in x])))\n",
    "        client_test_dataset[client_name] = data\n",
    "        skip = take*i\n",
    "        \n",
    "except Exception as e:\n",
    "    print(e)\n",
    "    print(\"Memory Error - Client Data creation stopped\")\n",
    "    print(f\"Total number of clients created are {len(client_test_dataset)}\")\n",
    "    NUM_CLIENTS = len(client_test_dataset)"
   ]
  },
  {
   "cell_type": "code",
   "execution_count": 13,
   "metadata": {},
   "outputs": [],
   "source": [
    "del client_train_dataset"
   ]
  },
  {
   "cell_type": "code",
   "execution_count": 14,
   "metadata": {},
   "outputs": [],
   "source": [
    "sample_dataset = train_dataset.create_tf_dataset_for_client(train_dataset.client_ids[0])\n",
    "sample_element = next(iter(sample_dataset))"
   ]
  },
  {
   "cell_type": "code",
   "execution_count": 15,
   "metadata": {},
   "outputs": [
    {
     "data": {
      "image/png": "[encoded data removed]",
      "text/plain": [
       "<Figure size 432x288 with 1 Axes>"
      ]
     },
     "metadata": {
      "needs_background": "light"
     },
     "output_type": "display_data"
    }
   ],
   "source": [
    "plt.imshow(sample_element['pixels'].numpy().astype('uint8'))\n",
    "plt.grid(False)\n",
    "plt.show()"
   ]
  },
  {
   "cell_type": "code",
   "execution_count": 16,
   "metadata": {},
   "outputs": [],
   "source": [
    "SHUFFLE_BUFFER = len(sample_dataset) # How much data to shuffle\n",
    "EPOCHS = 5 # Number of epochs to run for training @ individual node\n",
    "PREFETCH_BUFFER = 100 # Preloading some number of samples to aid faster training.\n",
    "\n",
    "# Normalizing the pixel values\n",
    "normalization_layer = tf.keras.layers.experimental.preprocessing.Rescaling(1.0/255)\n",
    "\n",
    "def preprocess(dataset):\n",
    "\n",
    "    def batch(sample):\n",
    "        _x = normalization_layer(sample['pixels'])\n",
    "        return collections.OrderedDict(\n",
    "            x = _x,\n",
    "            y = tf.reshape(sample['label'], [-1, 1]))\n",
    "\n",
    "    return dataset.repeat(EPOCHS).shuffle(SHUFFLE_BUFFER).batch(\n",
    "          BATCH_SIZE).map(batch).prefetch(PREFETCH_BUFFER)"
   ]
  },
  {
   "cell_type": "code",
   "execution_count": 17,
   "metadata": {},
   "outputs": [],
   "source": [
    "selected_clients = np.random.choice(train_dataset.client_ids,2, replace = False)"
   ]
  },
  {
   "cell_type": "code",
   "execution_count": 18,
   "metadata": {},
   "outputs": [],
   "source": [
    "federated_train_data = [preprocess(train_dataset.create_tf_dataset_for_client(i)) for i in selected_clients]"
   ]
  },
  {
   "cell_type": "code",
   "execution_count": 19,
   "metadata": {},
   "outputs": [],
   "source": [
    "sample_federated_dataset = preprocess(sample_dataset)"
   ]
  },
  {
   "cell_type": "code",
   "execution_count": 20,
   "metadata": {},
   "outputs": [],
   "source": [
    "# np.expand_dims(sample_element['pixels'].numpy(), axis = -1)"
   ]
  },
  {
   "cell_type": "code",
   "execution_count": 21,
   "metadata": {},
   "outputs": [],
   "source": [
    "# sample_element['label'].numpy().reshape([-1,1])"
   ]
  },
  {
   "cell_type": "code",
   "execution_count": 22,
   "metadata": {},
   "outputs": [],
   "source": [
    "def train_model():\n",
    "    model = tf.keras.Sequential([\n",
    "        tf.keras.layers.InputLayer(input_shape=(IMG_HEIGHT,IMG_WIDTH, 3)),\n",
    "        # Ingesting a 2-d Image with 3 channels\n",
    "        tf.keras.layers.Conv2D(16, 3, padding='same', activation='relu'),\n",
    "        # Max pooling to reduce dimensions\n",
    "        tf.keras.layers.MaxPooling2D(),\n",
    "        tf.keras.layers.Conv2D(32, 3, padding='same', activation='relu'),\n",
    "        tf.keras.layers.MaxPooling2D(),\n",
    "        tf.keras.layers.Conv2D(64, 3, padding='same', activation='relu'),\n",
    "        tf.keras.layers.MaxPooling2D(),\n",
    "        # Dropout to prevent over-fitting\n",
    "        tf.keras.layers.Dropout(0.2),\n",
    "        # Flattening to feed data for sigmoid activation\n",
    "        tf.keras.layers.Flatten(),\n",
    "        tf.keras.layers.Dense(128, activation='relu'),\n",
    "        tf.keras.layers.Dense(1, activation = 'sigmoid')\n",
    "    ])\n",
    "    \n",
    "    return model"
   ]
  },
  {
   "cell_type": "code",
   "execution_count": 23,
   "metadata": {},
   "outputs": [],
   "source": [
    "def federated_train_model():\n",
    "    local_train_model = train_model()\n",
    "    return tff.learning.from_keras_model(\n",
    "        local_train_model,\n",
    "        input_spec=sample_federated_dataset.element_spec,\n",
    "        loss=tf.keras.losses.BinaryCrossentropy(),\n",
    "        metrics=[tf.keras.metrics.AUC()])"
   ]
  },
  {
   "cell_type": "code",
   "execution_count": 24,
   "metadata": {},
   "outputs": [],
   "source": [
    "parameter_iteration_process = tff.learning.build_federated_averaging_process(\n",
    "    federated_train_model,\n",
    "    client_optimizer_fn = lambda: tf.keras.optimizers.SGD(learning_rate= CLIENT_LR),\n",
    "    server_optimizer_fn = lambda: tf.keras.optimizers.SGD(learning_rate= SERVER_LR))"
   ]
  },
  {
   "cell_type": "code",
   "execution_count": 25,
   "metadata": {},
   "outputs": [
    {
     "data": {
      "text/plain": [
       "'( -> <model=<trainable=<float32[3,3,3,16],float32[16],float32[3,3,16,32],float32[32],float32[3,3,32,64],float32[64],float32[16384,128],float32[128],float32[128,1],float32[1]>,non_trainable=<>>,optimizer_state=<int64>,delta_aggregate_state=<value_sum_process=<>,weight_sum_process=<>>,model_broadcast_state=<>>@SERVER)'"
      ]
     },
     "execution_count": 25,
     "metadata": {},
     "output_type": "execute_result"
    }
   ],
   "source": [
    "str(parameter_iteration_process.initialize.type_signature)"
   ]
  },
  {
   "cell_type": "code",
   "execution_count": 26,
   "metadata": {},
   "outputs": [],
   "source": [
    "# !pip install --quiet --upgrade --user nest_asyncio"
   ]
  },
  {
   "cell_type": "code",
   "execution_count": 27,
   "metadata": {},
   "outputs": [],
   "source": [
    "import nest_asyncio\n",
    "nest_asyncio.apply()"
   ]
  },
  {
   "cell_type": "code",
   "execution_count": 28,
   "metadata": {},
   "outputs": [],
   "source": [
    "state = parameter_iteration_process.initialize()"
   ]
  },
  {
   "cell_type": "code",
   "execution_count": 29,
   "metadata": {},
   "outputs": [
    {
     "name": "stdout",
     "output_type": "stream",
     "text": [
      "round  1, metrics=OrderedDict([('broadcast', ()), ('aggregation', OrderedDict([('value_sum_process', ()), ('weight_sum_process', ())])), ('train', OrderedDict([('auc', 0.5897039), ('loss', 0.6823319)]))])\n"
     ]
    }
   ],
   "source": [
    "state, metrics = parameter_iteration_process.next(state, federated_train_data)\n",
    "print('round  1, metrics={}'.format(metrics))"
   ]
  },
  {
   "cell_type": "code",
   "execution_count": 30,
   "metadata": {},
   "outputs": [
    {
     "name": "stdout",
     "output_type": "stream",
     "text": [
      "round  2, metrics=OrderedDict([('broadcast', ()), ('aggregation', OrderedDict([('value_sum_process', ()), ('weight_sum_process', ())])), ('train', OrderedDict([('auc', 0.60388386), ('loss', 0.67804503)]))])\n",
      "round  3, metrics=OrderedDict([('broadcast', ()), ('aggregation', OrderedDict([('value_sum_process', ()), ('weight_sum_process', ())])), ('train', OrderedDict([('auc', 0.61434853), ('loss', 0.6752475)]))])\n",
      "round  4, metrics=OrderedDict([('broadcast', ()), ('aggregation', OrderedDict([('value_sum_process', ()), ('weight_sum_process', ())])), ('train', OrderedDict([('auc', 0.62443274), ('loss', 0.67076266)]))])\n",
      "round  5, metrics=OrderedDict([('broadcast', ()), ('aggregation', OrderedDict([('value_sum_process', ()), ('weight_sum_process', ())])), ('train', OrderedDict([('auc', 0.6333971), ('loss', 0.6674127)]))])\n"
     ]
    }
   ],
   "source": [
    "NUM_ROUNDS = 6 # Total 5 rounds of training\n",
    "for round_num in range(2, NUM_ROUNDS):\n",
    "    state, metrics = parameter_iteration_process.next(state, federated_train_data)\n",
    "    print('round {:2d}, metrics={}'.format(round_num, metrics))"
   ]
  },
  {
   "cell_type": "markdown",
   "metadata": {},
   "source": [
    "## Evaluation"
   ]
  },
  {
   "cell_type": "code",
   "execution_count": 39,
   "metadata": {},
   "outputs": [],
   "source": [
    "def evaluate(train_fn, state, train_data, test_data):\n",
    "    \n",
    "    # Print training metrics\n",
    "    evaluation = tff.learning.build_federated_evaluation(train_fn)\n",
    "    train_metrics = evaluation(state.model, train_data)\n",
    "    print(\"Training Metrics: AUC : {}, Binary Cross Entropy Loss: {}\".format(\n",
    "        train_metrics['auc'],\n",
    "        train_metrics['loss']))\n",
    "    \n",
    "    # Print testing metrics\n",
    "    test_metrics = evaluation(state.model, test_data)\n",
    "    print(\"Validation Metrics:  AUC: {}, Binary Cross Entropy Loss: {}\".format(\n",
    "        test_metrics['auc'],\n",
    "        test_metrics['loss']))"
   ]
  },
  {
   "cell_type": "code",
   "execution_count": 49,
   "metadata": {},
   "outputs": [],
   "source": [
    "val_dataset  = tff.simulation.FromTensorSlicesClientData(client_test_dataset)\n",
    "federated_val_data = [preprocess(val_dataset.create_tf_dataset_for_client(i)) for i in selected_clients]"
   ]
  },
  {
   "cell_type": "code",
   "execution_count": 50,
   "metadata": {},
   "outputs": [
    {
     "name": "stdout",
     "output_type": "stream",
     "text": [
      "Training Metrics: AUC : 0.6697379946708679, Binary Cross Entropy Loss: 0.6773737072944641\n",
      "Validation Metrics:  AUC: 0.6535744071006775, Binary Cross Entropy Loss: 0.6790395379066467\n"
     ]
    }
   ],
   "source": [
    "evaluate(federated_train_model, state, federated_train_data, federated_val_data)"
   ]
  },
  {
   "cell_type": "code",
   "execution_count": null,
   "metadata": {},
   "outputs": [],
   "source": []
  }
 ],
 "metadata": {
  "kernelspec": {
   "display_name": "tffed",
   "language": "python",
   "name": "tffed"
  },
  "language_info": {
   "codemirror_mode": {
    "name": "ipython",
    "version": 3
   },
   "file_extension": ".py",
   "mimetype": "text/x-python",
   "name": "python",
   "nbconvert_exporter": "python",
   "pygments_lexer": "ipython3",
   "version": "3.7.9"
  }
 },
 "nbformat": 4,
 "nbformat_minor": 4
}
